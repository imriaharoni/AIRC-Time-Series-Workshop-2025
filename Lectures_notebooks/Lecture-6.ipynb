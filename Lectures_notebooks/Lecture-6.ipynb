{
 "cells": [
  {
   "cell_type": "markdown",
   "metadata": {},
   "source": [
    "# Imports"
   ]
  },
  {
   "cell_type": "code",
   "execution_count": 36,
   "metadata": {},
   "outputs": [],
   "source": [
    "import pandas as pd\n",
    "import matplotlib.pyplot as plt\n",
    "import numpy as np\n",
    "from pathlib import Path\n",
    "import matplotlib \n",
    "\n",
    "import warnings\n",
    "warnings.filterwarnings('ignore')\n"
   ]
  },
  {
   "cell_type": "code",
   "execution_count": 37,
   "metadata": {},
   "outputs": [],
   "source": [
    "import tensorflow as tf\n",
    "from tensorflow import keras\n",
    "from keras import Sequential\n",
    "from keras.metrics import RootMeanSquaredError, MeanAbsoluteError\n",
    "from keras.layers import Dense, SimpleRNN, LSTM, GRU                                      "
   ]
  },
  {
   "cell_type": "code",
   "execution_count": 38,
   "metadata": {},
   "outputs": [],
   "source": [
    "from sklearn.model_selection import train_test_split\n",
    "from sklearn.preprocessing import StandardScaler\n",
    "from statsmodels.datasets import get_rdataset"
   ]
  },
  {
   "cell_type": "markdown",
   "metadata": {},
   "source": [
    "# Load Data"
   ]
  },
  {
   "cell_type": "code",
   "execution_count": 39,
   "metadata": {},
   "outputs": [
    {
     "data": {
      "text/html": [
       "<div>\n",
       "<style scoped>\n",
       "    .dataframe tbody tr th:only-of-type {\n",
       "        vertical-align: middle;\n",
       "    }\n",
       "\n",
       "    .dataframe tbody tr th {\n",
       "        vertical-align: top;\n",
       "    }\n",
       "\n",
       "    .dataframe thead th {\n",
       "        text-align: right;\n",
       "    }\n",
       "</style>\n",
       "<table border=\"1\" class=\"dataframe\">\n",
       "  <thead>\n",
       "    <tr style=\"text-align: right;\">\n",
       "      <th></th>\n",
       "      <th>passengers</th>\n",
       "    </tr>\n",
       "  </thead>\n",
       "  <tbody>\n",
       "    <tr>\n",
       "      <th>1949-01-31</th>\n",
       "      <td>112</td>\n",
       "    </tr>\n",
       "    <tr>\n",
       "      <th>1949-02-28</th>\n",
       "      <td>118</td>\n",
       "    </tr>\n",
       "    <tr>\n",
       "      <th>1949-03-31</th>\n",
       "      <td>132</td>\n",
       "    </tr>\n",
       "    <tr>\n",
       "      <th>1949-04-30</th>\n",
       "      <td>129</td>\n",
       "    </tr>\n",
       "    <tr>\n",
       "      <th>1949-05-31</th>\n",
       "      <td>121</td>\n",
       "    </tr>\n",
       "    <tr>\n",
       "      <th>1949-06-30</th>\n",
       "      <td>135</td>\n",
       "    </tr>\n",
       "    <tr>\n",
       "      <th>1949-07-31</th>\n",
       "      <td>148</td>\n",
       "    </tr>\n",
       "    <tr>\n",
       "      <th>1949-08-31</th>\n",
       "      <td>148</td>\n",
       "    </tr>\n",
       "    <tr>\n",
       "      <th>1949-09-30</th>\n",
       "      <td>136</td>\n",
       "    </tr>\n",
       "    <tr>\n",
       "      <th>1949-10-31</th>\n",
       "      <td>119</td>\n",
       "    </tr>\n",
       "    <tr>\n",
       "      <th>1949-11-30</th>\n",
       "      <td>104</td>\n",
       "    </tr>\n",
       "    <tr>\n",
       "      <th>1949-12-31</th>\n",
       "      <td>118</td>\n",
       "    </tr>\n",
       "    <tr>\n",
       "      <th>1950-01-31</th>\n",
       "      <td>115</td>\n",
       "    </tr>\n",
       "    <tr>\n",
       "      <th>1950-02-28</th>\n",
       "      <td>126</td>\n",
       "    </tr>\n",
       "    <tr>\n",
       "      <th>1950-03-31</th>\n",
       "      <td>141</td>\n",
       "    </tr>\n",
       "    <tr>\n",
       "      <th>1950-04-30</th>\n",
       "      <td>135</td>\n",
       "    </tr>\n",
       "    <tr>\n",
       "      <th>1950-05-31</th>\n",
       "      <td>125</td>\n",
       "    </tr>\n",
       "    <tr>\n",
       "      <th>1950-06-30</th>\n",
       "      <td>149</td>\n",
       "    </tr>\n",
       "    <tr>\n",
       "      <th>1950-07-31</th>\n",
       "      <td>170</td>\n",
       "    </tr>\n",
       "    <tr>\n",
       "      <th>1950-08-31</th>\n",
       "      <td>170</td>\n",
       "    </tr>\n",
       "    <tr>\n",
       "      <th>1950-09-30</th>\n",
       "      <td>158</td>\n",
       "    </tr>\n",
       "    <tr>\n",
       "      <th>1950-10-31</th>\n",
       "      <td>133</td>\n",
       "    </tr>\n",
       "    <tr>\n",
       "      <th>1950-11-30</th>\n",
       "      <td>114</td>\n",
       "    </tr>\n",
       "    <tr>\n",
       "      <th>1950-12-31</th>\n",
       "      <td>140</td>\n",
       "    </tr>\n",
       "    <tr>\n",
       "      <th>1951-01-31</th>\n",
       "      <td>145</td>\n",
       "    </tr>\n",
       "    <tr>\n",
       "      <th>1951-02-28</th>\n",
       "      <td>150</td>\n",
       "    </tr>\n",
       "    <tr>\n",
       "      <th>1951-03-31</th>\n",
       "      <td>178</td>\n",
       "    </tr>\n",
       "    <tr>\n",
       "      <th>1951-04-30</th>\n",
       "      <td>163</td>\n",
       "    </tr>\n",
       "    <tr>\n",
       "      <th>1951-05-31</th>\n",
       "      <td>172</td>\n",
       "    </tr>\n",
       "    <tr>\n",
       "      <th>1951-06-30</th>\n",
       "      <td>178</td>\n",
       "    </tr>\n",
       "    <tr>\n",
       "      <th>1951-07-31</th>\n",
       "      <td>199</td>\n",
       "    </tr>\n",
       "    <tr>\n",
       "      <th>1951-08-31</th>\n",
       "      <td>199</td>\n",
       "    </tr>\n",
       "    <tr>\n",
       "      <th>1951-09-30</th>\n",
       "      <td>184</td>\n",
       "    </tr>\n",
       "    <tr>\n",
       "      <th>1951-10-31</th>\n",
       "      <td>162</td>\n",
       "    </tr>\n",
       "    <tr>\n",
       "      <th>1951-11-30</th>\n",
       "      <td>146</td>\n",
       "    </tr>\n",
       "    <tr>\n",
       "      <th>1951-12-31</th>\n",
       "      <td>166</td>\n",
       "    </tr>\n",
       "    <tr>\n",
       "      <th>1952-01-31</th>\n",
       "      <td>171</td>\n",
       "    </tr>\n",
       "    <tr>\n",
       "      <th>1952-02-29</th>\n",
       "      <td>180</td>\n",
       "    </tr>\n",
       "    <tr>\n",
       "      <th>1952-03-31</th>\n",
       "      <td>193</td>\n",
       "    </tr>\n",
       "    <tr>\n",
       "      <th>1952-04-30</th>\n",
       "      <td>181</td>\n",
       "    </tr>\n",
       "    <tr>\n",
       "      <th>1952-05-31</th>\n",
       "      <td>183</td>\n",
       "    </tr>\n",
       "    <tr>\n",
       "      <th>1952-06-30</th>\n",
       "      <td>218</td>\n",
       "    </tr>\n",
       "    <tr>\n",
       "      <th>1952-07-31</th>\n",
       "      <td>230</td>\n",
       "    </tr>\n",
       "    <tr>\n",
       "      <th>1952-08-31</th>\n",
       "      <td>242</td>\n",
       "    </tr>\n",
       "    <tr>\n",
       "      <th>1952-09-30</th>\n",
       "      <td>209</td>\n",
       "    </tr>\n",
       "    <tr>\n",
       "      <th>1952-10-31</th>\n",
       "      <td>191</td>\n",
       "    </tr>\n",
       "    <tr>\n",
       "      <th>1952-11-30</th>\n",
       "      <td>172</td>\n",
       "    </tr>\n",
       "    <tr>\n",
       "      <th>1952-12-31</th>\n",
       "      <td>194</td>\n",
       "    </tr>\n",
       "    <tr>\n",
       "      <th>1953-01-31</th>\n",
       "      <td>196</td>\n",
       "    </tr>\n",
       "    <tr>\n",
       "      <th>1953-02-28</th>\n",
       "      <td>196</td>\n",
       "    </tr>\n",
       "    <tr>\n",
       "      <th>1953-03-31</th>\n",
       "      <td>236</td>\n",
       "    </tr>\n",
       "    <tr>\n",
       "      <th>1953-04-30</th>\n",
       "      <td>235</td>\n",
       "    </tr>\n",
       "    <tr>\n",
       "      <th>1953-05-31</th>\n",
       "      <td>229</td>\n",
       "    </tr>\n",
       "    <tr>\n",
       "      <th>1953-06-30</th>\n",
       "      <td>243</td>\n",
       "    </tr>\n",
       "    <tr>\n",
       "      <th>1953-07-31</th>\n",
       "      <td>264</td>\n",
       "    </tr>\n",
       "    <tr>\n",
       "      <th>1953-08-31</th>\n",
       "      <td>272</td>\n",
       "    </tr>\n",
       "    <tr>\n",
       "      <th>1953-09-30</th>\n",
       "      <td>237</td>\n",
       "    </tr>\n",
       "    <tr>\n",
       "      <th>1953-10-31</th>\n",
       "      <td>211</td>\n",
       "    </tr>\n",
       "    <tr>\n",
       "      <th>1953-11-30</th>\n",
       "      <td>180</td>\n",
       "    </tr>\n",
       "    <tr>\n",
       "      <th>1953-12-31</th>\n",
       "      <td>201</td>\n",
       "    </tr>\n",
       "    <tr>\n",
       "      <th>1954-01-31</th>\n",
       "      <td>204</td>\n",
       "    </tr>\n",
       "    <tr>\n",
       "      <th>1954-02-28</th>\n",
       "      <td>188</td>\n",
       "    </tr>\n",
       "    <tr>\n",
       "      <th>1954-03-31</th>\n",
       "      <td>235</td>\n",
       "    </tr>\n",
       "    <tr>\n",
       "      <th>1954-04-30</th>\n",
       "      <td>227</td>\n",
       "    </tr>\n",
       "    <tr>\n",
       "      <th>1954-05-31</th>\n",
       "      <td>234</td>\n",
       "    </tr>\n",
       "    <tr>\n",
       "      <th>1954-06-30</th>\n",
       "      <td>264</td>\n",
       "    </tr>\n",
       "    <tr>\n",
       "      <th>1954-07-31</th>\n",
       "      <td>302</td>\n",
       "    </tr>\n",
       "    <tr>\n",
       "      <th>1954-08-31</th>\n",
       "      <td>293</td>\n",
       "    </tr>\n",
       "    <tr>\n",
       "      <th>1954-09-30</th>\n",
       "      <td>259</td>\n",
       "    </tr>\n",
       "    <tr>\n",
       "      <th>1954-10-31</th>\n",
       "      <td>229</td>\n",
       "    </tr>\n",
       "    <tr>\n",
       "      <th>1954-11-30</th>\n",
       "      <td>203</td>\n",
       "    </tr>\n",
       "    <tr>\n",
       "      <th>1954-12-31</th>\n",
       "      <td>229</td>\n",
       "    </tr>\n",
       "    <tr>\n",
       "      <th>1955-01-31</th>\n",
       "      <td>242</td>\n",
       "    </tr>\n",
       "    <tr>\n",
       "      <th>1955-02-28</th>\n",
       "      <td>233</td>\n",
       "    </tr>\n",
       "    <tr>\n",
       "      <th>1955-03-31</th>\n",
       "      <td>267</td>\n",
       "    </tr>\n",
       "    <tr>\n",
       "      <th>1955-04-30</th>\n",
       "      <td>269</td>\n",
       "    </tr>\n",
       "    <tr>\n",
       "      <th>1955-05-31</th>\n",
       "      <td>270</td>\n",
       "    </tr>\n",
       "    <tr>\n",
       "      <th>1955-06-30</th>\n",
       "      <td>315</td>\n",
       "    </tr>\n",
       "    <tr>\n",
       "      <th>1955-07-31</th>\n",
       "      <td>364</td>\n",
       "    </tr>\n",
       "    <tr>\n",
       "      <th>1955-08-31</th>\n",
       "      <td>347</td>\n",
       "    </tr>\n",
       "    <tr>\n",
       "      <th>1955-09-30</th>\n",
       "      <td>312</td>\n",
       "    </tr>\n",
       "    <tr>\n",
       "      <th>1955-10-31</th>\n",
       "      <td>274</td>\n",
       "    </tr>\n",
       "    <tr>\n",
       "      <th>1955-11-30</th>\n",
       "      <td>237</td>\n",
       "    </tr>\n",
       "    <tr>\n",
       "      <th>1955-12-31</th>\n",
       "      <td>278</td>\n",
       "    </tr>\n",
       "    <tr>\n",
       "      <th>1956-01-31</th>\n",
       "      <td>284</td>\n",
       "    </tr>\n",
       "    <tr>\n",
       "      <th>1956-02-29</th>\n",
       "      <td>277</td>\n",
       "    </tr>\n",
       "    <tr>\n",
       "      <th>1956-03-31</th>\n",
       "      <td>317</td>\n",
       "    </tr>\n",
       "    <tr>\n",
       "      <th>1956-04-30</th>\n",
       "      <td>313</td>\n",
       "    </tr>\n",
       "    <tr>\n",
       "      <th>1956-05-31</th>\n",
       "      <td>318</td>\n",
       "    </tr>\n",
       "    <tr>\n",
       "      <th>1956-06-30</th>\n",
       "      <td>374</td>\n",
       "    </tr>\n",
       "    <tr>\n",
       "      <th>1956-07-31</th>\n",
       "      <td>413</td>\n",
       "    </tr>\n",
       "    <tr>\n",
       "      <th>1956-08-31</th>\n",
       "      <td>405</td>\n",
       "    </tr>\n",
       "    <tr>\n",
       "      <th>1956-09-30</th>\n",
       "      <td>355</td>\n",
       "    </tr>\n",
       "    <tr>\n",
       "      <th>1956-10-31</th>\n",
       "      <td>306</td>\n",
       "    </tr>\n",
       "    <tr>\n",
       "      <th>1956-11-30</th>\n",
       "      <td>271</td>\n",
       "    </tr>\n",
       "    <tr>\n",
       "      <th>1956-12-31</th>\n",
       "      <td>306</td>\n",
       "    </tr>\n",
       "    <tr>\n",
       "      <th>1957-01-31</th>\n",
       "      <td>315</td>\n",
       "    </tr>\n",
       "    <tr>\n",
       "      <th>1957-02-28</th>\n",
       "      <td>301</td>\n",
       "    </tr>\n",
       "    <tr>\n",
       "      <th>1957-03-31</th>\n",
       "      <td>356</td>\n",
       "    </tr>\n",
       "    <tr>\n",
       "      <th>1957-04-30</th>\n",
       "      <td>348</td>\n",
       "    </tr>\n",
       "    <tr>\n",
       "      <th>1957-05-31</th>\n",
       "      <td>355</td>\n",
       "    </tr>\n",
       "    <tr>\n",
       "      <th>1957-06-30</th>\n",
       "      <td>422</td>\n",
       "    </tr>\n",
       "    <tr>\n",
       "      <th>1957-07-31</th>\n",
       "      <td>465</td>\n",
       "    </tr>\n",
       "    <tr>\n",
       "      <th>1957-08-31</th>\n",
       "      <td>467</td>\n",
       "    </tr>\n",
       "    <tr>\n",
       "      <th>1957-09-30</th>\n",
       "      <td>404</td>\n",
       "    </tr>\n",
       "    <tr>\n",
       "      <th>1957-10-31</th>\n",
       "      <td>347</td>\n",
       "    </tr>\n",
       "    <tr>\n",
       "      <th>1957-11-30</th>\n",
       "      <td>305</td>\n",
       "    </tr>\n",
       "    <tr>\n",
       "      <th>1957-12-31</th>\n",
       "      <td>336</td>\n",
       "    </tr>\n",
       "    <tr>\n",
       "      <th>1958-01-31</th>\n",
       "      <td>340</td>\n",
       "    </tr>\n",
       "    <tr>\n",
       "      <th>1958-02-28</th>\n",
       "      <td>318</td>\n",
       "    </tr>\n",
       "    <tr>\n",
       "      <th>1958-03-31</th>\n",
       "      <td>362</td>\n",
       "    </tr>\n",
       "    <tr>\n",
       "      <th>1958-04-30</th>\n",
       "      <td>348</td>\n",
       "    </tr>\n",
       "    <tr>\n",
       "      <th>1958-05-31</th>\n",
       "      <td>363</td>\n",
       "    </tr>\n",
       "    <tr>\n",
       "      <th>1958-06-30</th>\n",
       "      <td>435</td>\n",
       "    </tr>\n",
       "    <tr>\n",
       "      <th>1958-07-31</th>\n",
       "      <td>491</td>\n",
       "    </tr>\n",
       "    <tr>\n",
       "      <th>1958-08-31</th>\n",
       "      <td>505</td>\n",
       "    </tr>\n",
       "    <tr>\n",
       "      <th>1958-09-30</th>\n",
       "      <td>404</td>\n",
       "    </tr>\n",
       "    <tr>\n",
       "      <th>1958-10-31</th>\n",
       "      <td>359</td>\n",
       "    </tr>\n",
       "    <tr>\n",
       "      <th>1958-11-30</th>\n",
       "      <td>310</td>\n",
       "    </tr>\n",
       "    <tr>\n",
       "      <th>1958-12-31</th>\n",
       "      <td>337</td>\n",
       "    </tr>\n",
       "    <tr>\n",
       "      <th>1959-01-31</th>\n",
       "      <td>360</td>\n",
       "    </tr>\n",
       "    <tr>\n",
       "      <th>1959-02-28</th>\n",
       "      <td>342</td>\n",
       "    </tr>\n",
       "    <tr>\n",
       "      <th>1959-03-31</th>\n",
       "      <td>406</td>\n",
       "    </tr>\n",
       "    <tr>\n",
       "      <th>1959-04-30</th>\n",
       "      <td>396</td>\n",
       "    </tr>\n",
       "    <tr>\n",
       "      <th>1959-05-31</th>\n",
       "      <td>420</td>\n",
       "    </tr>\n",
       "    <tr>\n",
       "      <th>1959-06-30</th>\n",
       "      <td>472</td>\n",
       "    </tr>\n",
       "    <tr>\n",
       "      <th>1959-07-31</th>\n",
       "      <td>548</td>\n",
       "    </tr>\n",
       "    <tr>\n",
       "      <th>1959-08-31</th>\n",
       "      <td>559</td>\n",
       "    </tr>\n",
       "    <tr>\n",
       "      <th>1959-09-30</th>\n",
       "      <td>463</td>\n",
       "    </tr>\n",
       "    <tr>\n",
       "      <th>1959-10-31</th>\n",
       "      <td>407</td>\n",
       "    </tr>\n",
       "    <tr>\n",
       "      <th>1959-11-30</th>\n",
       "      <td>362</td>\n",
       "    </tr>\n",
       "    <tr>\n",
       "      <th>1959-12-31</th>\n",
       "      <td>405</td>\n",
       "    </tr>\n",
       "    <tr>\n",
       "      <th>1960-01-31</th>\n",
       "      <td>417</td>\n",
       "    </tr>\n",
       "    <tr>\n",
       "      <th>1960-02-29</th>\n",
       "      <td>391</td>\n",
       "    </tr>\n",
       "    <tr>\n",
       "      <th>1960-03-31</th>\n",
       "      <td>419</td>\n",
       "    </tr>\n",
       "    <tr>\n",
       "      <th>1960-04-30</th>\n",
       "      <td>461</td>\n",
       "    </tr>\n",
       "    <tr>\n",
       "      <th>1960-05-31</th>\n",
       "      <td>472</td>\n",
       "    </tr>\n",
       "    <tr>\n",
       "      <th>1960-06-30</th>\n",
       "      <td>535</td>\n",
       "    </tr>\n",
       "    <tr>\n",
       "      <th>1960-07-31</th>\n",
       "      <td>622</td>\n",
       "    </tr>\n",
       "    <tr>\n",
       "      <th>1960-08-31</th>\n",
       "      <td>606</td>\n",
       "    </tr>\n",
       "    <tr>\n",
       "      <th>1960-09-30</th>\n",
       "      <td>508</td>\n",
       "    </tr>\n",
       "    <tr>\n",
       "      <th>1960-10-31</th>\n",
       "      <td>461</td>\n",
       "    </tr>\n",
       "    <tr>\n",
       "      <th>1960-11-30</th>\n",
       "      <td>390</td>\n",
       "    </tr>\n",
       "    <tr>\n",
       "      <th>1960-12-31</th>\n",
       "      <td>432</td>\n",
       "    </tr>\n",
       "  </tbody>\n",
       "</table>\n",
       "</div>"
      ],
      "text/plain": [
       "            passengers\n",
       "1949-01-31         112\n",
       "1949-02-28         118\n",
       "1949-03-31         132\n",
       "1949-04-30         129\n",
       "1949-05-31         121\n",
       "1949-06-30         135\n",
       "1949-07-31         148\n",
       "1949-08-31         148\n",
       "1949-09-30         136\n",
       "1949-10-31         119\n",
       "1949-11-30         104\n",
       "1949-12-31         118\n",
       "1950-01-31         115\n",
       "1950-02-28         126\n",
       "1950-03-31         141\n",
       "1950-04-30         135\n",
       "1950-05-31         125\n",
       "1950-06-30         149\n",
       "1950-07-31         170\n",
       "1950-08-31         170\n",
       "1950-09-30         158\n",
       "1950-10-31         133\n",
       "1950-11-30         114\n",
       "1950-12-31         140\n",
       "1951-01-31         145\n",
       "1951-02-28         150\n",
       "1951-03-31         178\n",
       "1951-04-30         163\n",
       "1951-05-31         172\n",
       "1951-06-30         178\n",
       "1951-07-31         199\n",
       "1951-08-31         199\n",
       "1951-09-30         184\n",
       "1951-10-31         162\n",
       "1951-11-30         146\n",
       "1951-12-31         166\n",
       "1952-01-31         171\n",
       "1952-02-29         180\n",
       "1952-03-31         193\n",
       "1952-04-30         181\n",
       "1952-05-31         183\n",
       "1952-06-30         218\n",
       "1952-07-31         230\n",
       "1952-08-31         242\n",
       "1952-09-30         209\n",
       "1952-10-31         191\n",
       "1952-11-30         172\n",
       "1952-12-31         194\n",
       "1953-01-31         196\n",
       "1953-02-28         196\n",
       "1953-03-31         236\n",
       "1953-04-30         235\n",
       "1953-05-31         229\n",
       "1953-06-30         243\n",
       "1953-07-31         264\n",
       "1953-08-31         272\n",
       "1953-09-30         237\n",
       "1953-10-31         211\n",
       "1953-11-30         180\n",
       "1953-12-31         201\n",
       "1954-01-31         204\n",
       "1954-02-28         188\n",
       "1954-03-31         235\n",
       "1954-04-30         227\n",
       "1954-05-31         234\n",
       "1954-06-30         264\n",
       "1954-07-31         302\n",
       "1954-08-31         293\n",
       "1954-09-30         259\n",
       "1954-10-31         229\n",
       "1954-11-30         203\n",
       "1954-12-31         229\n",
       "1955-01-31         242\n",
       "1955-02-28         233\n",
       "1955-03-31         267\n",
       "1955-04-30         269\n",
       "1955-05-31         270\n",
       "1955-06-30         315\n",
       "1955-07-31         364\n",
       "1955-08-31         347\n",
       "1955-09-30         312\n",
       "1955-10-31         274\n",
       "1955-11-30         237\n",
       "1955-12-31         278\n",
       "1956-01-31         284\n",
       "1956-02-29         277\n",
       "1956-03-31         317\n",
       "1956-04-30         313\n",
       "1956-05-31         318\n",
       "1956-06-30         374\n",
       "1956-07-31         413\n",
       "1956-08-31         405\n",
       "1956-09-30         355\n",
       "1956-10-31         306\n",
       "1956-11-30         271\n",
       "1956-12-31         306\n",
       "1957-01-31         315\n",
       "1957-02-28         301\n",
       "1957-03-31         356\n",
       "1957-04-30         348\n",
       "1957-05-31         355\n",
       "1957-06-30         422\n",
       "1957-07-31         465\n",
       "1957-08-31         467\n",
       "1957-09-30         404\n",
       "1957-10-31         347\n",
       "1957-11-30         305\n",
       "1957-12-31         336\n",
       "1958-01-31         340\n",
       "1958-02-28         318\n",
       "1958-03-31         362\n",
       "1958-04-30         348\n",
       "1958-05-31         363\n",
       "1958-06-30         435\n",
       "1958-07-31         491\n",
       "1958-08-31         505\n",
       "1958-09-30         404\n",
       "1958-10-31         359\n",
       "1958-11-30         310\n",
       "1958-12-31         337\n",
       "1959-01-31         360\n",
       "1959-02-28         342\n",
       "1959-03-31         406\n",
       "1959-04-30         396\n",
       "1959-05-31         420\n",
       "1959-06-30         472\n",
       "1959-07-31         548\n",
       "1959-08-31         559\n",
       "1959-09-30         463\n",
       "1959-10-31         407\n",
       "1959-11-30         362\n",
       "1959-12-31         405\n",
       "1960-01-31         417\n",
       "1960-02-29         391\n",
       "1960-03-31         419\n",
       "1960-04-30         461\n",
       "1960-05-31         472\n",
       "1960-06-30         535\n",
       "1960-07-31         622\n",
       "1960-08-31         606\n",
       "1960-09-30         508\n",
       "1960-10-31         461\n",
       "1960-11-30         390\n",
       "1960-12-31         432"
      ]
     },
     "execution_count": 39,
     "metadata": {},
     "output_type": "execute_result"
    }
   ],
   "source": [
    "#Monthly Airline Passenger Numbers 1949-1960, in thousands\n",
    "air_passengers = get_rdataset(\"AirPassengers\")\n",
    "air_p = air_passengers.data\n",
    "air_p.index = pd.date_range('1949', '1961', freq='M')\n",
    "air_p.drop(columns=['time'], inplace=True)\n",
    "air_p.columns = ['passengers']\n",
    "air_p"
   ]
  },
  {
   "cell_type": "markdown",
   "metadata": {},
   "source": [
    "### Visualize the time series "
   ]
  },
  {
   "cell_type": "code",
   "execution_count": 40,
   "metadata": {},
   "outputs": [
    {
     "data": {
      "text/plain": [
       "<Axes: title={'center': 'Monthly Passengers'}>"
      ]
     },
     "execution_count": 40,
     "metadata": {},
     "output_type": "execute_result"
    },
    {
     "data": {
      "image/png": "[encoded data removed]",
      "text/plain": [
       "<Figure size 800x250 with 1 Axes>"
      ]
     },
     "metadata": {},
     "output_type": "display_data"
    }
   ],
   "source": [
    "air_p.plot(figsize=(8, 2.5),title='Monthly Passengers')"
   ]
  },
  {
   "cell_type": "markdown",
   "metadata": {},
   "source": [
    "# Functiones"
   ]
  },
  {
   "cell_type": "code",
   "execution_count": 41,
   "metadata": {},
   "outputs": [],
   "source": [
    "def creat_laged_features(df, window):\n",
    "    d = df.values\n",
    "    x = []\n",
    "    n = len(df)\n",
    "    idx = df.index[:-window]\n",
    "    for start in range(n-window):\n",
    "        end = start + window\n",
    "        x.append(d[start:end])\n",
    "    cols = [f'x_{i}' for i in range(1, window+1)]\n",
    "    x = np.array(x).reshape(n-window, -1)\n",
    "    y = df.iloc[window:].values\n",
    "    df_xs = pd.DataFrame(x, columns=cols, index=idx)\n",
    "    df_y = pd.DataFrame(y.reshape(-1), columns=['y'], index=idx)\n",
    "    return pd.concat([df_xs, df_y], axis=1).dropna()"
   ]
  },
  {
   "cell_type": "code",
   "execution_count": 42,
   "metadata": {},
   "outputs": [],
   "source": [
    "def create_window_features(df, window_size, variables=None):\n",
    "    \"\"\"\n",
    "    Create lagged features for specified variables based on a given window size.\n",
    "    gets the data frame, the variables to create lagged features as list, and the window size\n",
    "    if variables is None, use all columns in the dataframe\n",
    "    \"\"\"\n",
    "    if variables is None:\n",
    "        variables = df.columns\n",
    "\n",
    "    for variable in variables:\n",
    "        for lag in range(window_size, 0 , -1): # iterate over the window size in reverse\n",
    "            lagged_col_name = f\"{variable}_time_step -{lag}\"\n",
    "            df[lagged_col_name] = df[variable].shift(lag)\n",
    "    \n",
    "    # Drop rows with NaN values introduced by shifting\n",
    "    df.dropna(inplace=True)\n",
    "    \n",
    "    return df"
   ]
  },
  {
   "cell_type": "markdown",
   "metadata": {},
   "source": [
    "# Preparing data to fit the model"
   ]
  },
  {
   "cell_type": "code",
   "execution_count": 43,
   "metadata": {},
   "outputs": [
    {
     "name": "stdout",
     "output_type": "stream",
     "text": [
      "ts_lags.shape- (139, 6)\n"
     ]
    },
    {
     "data": {
      "text/html": [
       "<div>\n",
       "<style scoped>\n",
       "    .dataframe tbody tr th:only-of-type {\n",
       "        vertical-align: middle;\n",
       "    }\n",
       "\n",
       "    .dataframe tbody tr th {\n",
       "        vertical-align: top;\n",
       "    }\n",
       "\n",
       "    .dataframe thead th {\n",
       "        text-align: right;\n",
       "    }\n",
       "</style>\n",
       "<table border=\"1\" class=\"dataframe\">\n",
       "  <thead>\n",
       "    <tr style=\"text-align: right;\">\n",
       "      <th></th>\n",
       "      <th>y</th>\n",
       "      <th>passengers_time_step -5</th>\n",
       "      <th>passengers_time_step -4</th>\n",
       "      <th>passengers_time_step -3</th>\n",
       "      <th>passengers_time_step -2</th>\n",
       "      <th>passengers_time_step -1</th>\n",
       "    </tr>\n",
       "  </thead>\n",
       "  <tbody>\n",
       "    <tr>\n",
       "      <th>1960-08-31</th>\n",
       "      <td>606</td>\n",
       "      <td>419.0</td>\n",
       "      <td>461.0</td>\n",
       "      <td>472.0</td>\n",
       "      <td>535.0</td>\n",
       "      <td>622.0</td>\n",
       "    </tr>\n",
       "    <tr>\n",
       "      <th>1960-09-30</th>\n",
       "      <td>508</td>\n",
       "      <td>461.0</td>\n",
       "      <td>472.0</td>\n",
       "      <td>535.0</td>\n",
       "      <td>622.0</td>\n",
       "      <td>606.0</td>\n",
       "    </tr>\n",
       "    <tr>\n",
       "      <th>1960-10-31</th>\n",
       "      <td>461</td>\n",
       "      <td>472.0</td>\n",
       "      <td>535.0</td>\n",
       "      <td>622.0</td>\n",
       "      <td>606.0</td>\n",
       "      <td>508.0</td>\n",
       "    </tr>\n",
       "    <tr>\n",
       "      <th>1960-11-30</th>\n",
       "      <td>390</td>\n",
       "      <td>535.0</td>\n",
       "      <td>622.0</td>\n",
       "      <td>606.0</td>\n",
       "      <td>508.0</td>\n",
       "      <td>461.0</td>\n",
       "    </tr>\n",
       "    <tr>\n",
       "      <th>1960-12-31</th>\n",
       "      <td>432</td>\n",
       "      <td>622.0</td>\n",
       "      <td>606.0</td>\n",
       "      <td>508.0</td>\n",
       "      <td>461.0</td>\n",
       "      <td>390.0</td>\n",
       "    </tr>\n",
       "  </tbody>\n",
       "</table>\n",
       "</div>"
      ],
      "text/plain": [
       "              y  passengers_time_step -5  passengers_time_step -4  \\\n",
       "1960-08-31  606                    419.0                    461.0   \n",
       "1960-09-30  508                    461.0                    472.0   \n",
       "1960-10-31  461                    472.0                    535.0   \n",
       "1960-11-30  390                    535.0                    622.0   \n",
       "1960-12-31  432                    622.0                    606.0   \n",
       "\n",
       "            passengers_time_step -3  passengers_time_step -2  \\\n",
       "1960-08-31                    472.0                    535.0   \n",
       "1960-09-30                    535.0                    622.0   \n",
       "1960-10-31                    622.0                    606.0   \n",
       "1960-11-30                    606.0                    508.0   \n",
       "1960-12-31                    508.0                    461.0   \n",
       "\n",
       "            passengers_time_step -1  \n",
       "1960-08-31                    622.0  \n",
       "1960-09-30                    606.0  \n",
       "1960-10-31                    508.0  \n",
       "1960-11-30                    461.0  \n",
       "1960-12-31                    390.0  "
      ]
     },
     "execution_count": 43,
     "metadata": {},
     "output_type": "execute_result"
    }
   ],
   "source": [
    "# Select the data set\n",
    "ts_df= air_p.copy()\n",
    "# Create lagged features\n",
    "y_col = 'passengers'\n",
    "ts_lags= create_window_features(ts_df, window_size=5, variables=[y_col])\n",
    "# change the name of y_col to y\n",
    "ts_lags.rename(columns={y_col:'y'}, inplace=True)\n",
    "\n",
    "print('ts_lags.shape-', ts_lags.shape)\n",
    "ts_lags.tail()"
   ]
  },
  {
   "cell_type": "markdown",
   "metadata": {},
   "source": [
    "##  Scaling and Splitting (Using Scikit-Learn)"
   ]
  },
  {
   "cell_type": "code",
   "execution_count": 44,
   "metadata": {},
   "outputs": [],
   "source": [
    "# Create the features and target (X, y) for the train, validation, and test data\n",
    "X_set, y_set = ts_lags.drop('y', axis=1), ts_lags['y']\n",
    "# convert y_set to 2D dataframe\n",
    "y_set = y_set.to_frame()\n",
    "\n",
    "# Split the data into train, validation, and test sets\n",
    "# When shuffle=False,  train_test_split will split based on the original order last 15% of the rows will be assigned to test)\n",
    "X_train, X_test, y_train, y_test = train_test_split(X_set, y_set, test_size=0.15, shuffle=False)\n",
    "X_train, X_val, y_train, y_val = train_test_split(X_train, y_train, test_size=0.15, shuffle=False)\n",
    "\n",
    "# Scale the data using StandardScaler (X and y separately)\n",
    "x_scaler = StandardScaler()\n",
    "X_train_scaled = x_scaler.fit_transform(X_train) # fit_transform on the training set only\n",
    "X_val_scaled = x_scaler.transform(X_val)\n",
    "X_test_scaled = x_scaler.transform(X_test)\n",
    "\n",
    "y_scaler = StandardScaler()\n",
    "y_train_scaled = y_scaler.fit_transform(y_train)\n",
    "y_val_scaled = y_scaler.transform(y_val)\n",
    "y_test_scaled = y_scaler.transform(y_test)"
   ]
  },
  {
   "cell_type": "markdown",
   "metadata": {},
   "source": [
    "### Reshape X data to 3D to fit RNN input shape"
   ]
  },
  {
   "cell_type": "code",
   "execution_count": 45,
   "metadata": {},
   "outputs": [
    {
     "data": {
      "text/plain": [
       "(100, 5)"
      ]
     },
     "execution_count": 45,
     "metadata": {},
     "output_type": "execute_result"
    }
   ],
   "source": [
    "X_train_scaled.shape"
   ]
  },
  {
   "cell_type": "code",
   "execution_count": 46,
   "metadata": {},
   "outputs": [
    {
     "name": "stdout",
     "output_type": "stream",
     "text": [
      "x_train_RNN_array.shape: (100, 5, 1) x_test_RNN_array.shape: (21, 5, 1) x_val_RNN_array.shape: (18, 5, 1)\n"
     ]
    }
   ],
   "source": [
    "# Convert x_train x_test and x_val to NumPy array with dimension to fit the RNN input shape (samples, timesteps, features)\n",
    "x_train_RNN_array = X_train_scaled.reshape(X_train_scaled.shape[0], X_train_scaled.shape[1], 1)\n",
    "x_test_RNN_array = X_test_scaled.reshape(X_test_scaled.shape[0], X_test_scaled.shape[1], 1)\n",
    "x_val_RNN_array = X_val_scaled.reshape(X_val_scaled.shape[0], X_val_scaled.shape[1], 1)\n",
    "print('x_train_RNN_array.shape:', x_train_RNN_array.shape, 'x_test_RNN_array.shape:', x_test_RNN_array.shape, 'x_val_RNN_array.shape:', x_val_RNN_array.shape)"
   ]
  },
  {
   "cell_type": "markdown",
   "metadata": {},
   "source": [
    "# Simple RNN"
   ]
  },
  {
   "cell_type": "code",
   "execution_count": 47,
   "metadata": {},
   "outputs": [],
   "source": [
    "keras.backend.clear_session()"
   ]
  },
  {
   "cell_type": "markdown",
   "metadata": {},
   "source": [
    "## Create Model "
   ]
  },
  {
   "cell_type": "code",
   "execution_count": 48,
   "metadata": {},
   "outputs": [],
   "source": [
    "def create_RNN_model(x_train, units):\n",
    "    model = keras.Sequential()\n",
    "    # RNNs Expect Input Data in 3D Shape: (samples=batch size, timesteps, features)\n",
    "    model.add(SimpleRNN(units=units, return_sequences=False, input_shape=(x_train.shape[1],x_train.shape[2])))\n",
    "    model.add(Dense(1)) # output layer predicting a single numerical value\n",
    "    model.compile(optimizer='adam', loss='mean_squared_error', metrics=[RootMeanSquaredError(), MeanAbsoluteError()])\n",
    "    return model"
   ]
  },
  {
   "cell_type": "code",
   "execution_count": 49,
   "metadata": {},
   "outputs": [
    {
     "data": {
      "text/html": [
       "<pre style=\"white-space:pre;overflow-x:auto;line-height:normal;font-family:Menlo,'DejaVu Sans Mono',consolas,'Courier New',monospace\"><span style=\"font-weight: bold\">Model: \"sequential\"</span>\n",
       "</pre>\n"
      ],
      "text/plain": [
       "\u001b[1mModel: \"sequential\"\u001b[0m\n"
      ]
     },
     "metadata": {},
     "output_type": "display_data"
    },
    {
     "data": {
      "text/html": [
       "<pre style=\"white-space:pre;overflow-x:auto;line-height:normal;font-family:Menlo,'DejaVu Sans Mono',consolas,'Courier New',monospace\">┏━━━━━━━━━━━━━━━━━━━━━━━━━━━━━━━━━┳━━━━━━━━━━━━━━━━━━━━━━━━┳━━━━━━━━━━━━━━━┓\n",
       "┃<span style=\"font-weight: bold\"> Layer (type)                    </span>┃<span style=\"font-weight: bold\"> Output Shape           </span>┃<span style=\"font-weight: bold\">       Param # </span>┃\n",
       "┡━━━━━━━━━━━━━━━━━━━━━━━━━━━━━━━━━╇━━━━━━━━━━━━━━━━━━━━━━━━╇━━━━━━━━━━━━━━━┩\n",
       "│ simple_rnn (<span style=\"color: #0087ff; text-decoration-color: #0087ff\">SimpleRNN</span>)          │ (<span style=\"color: #00d7ff; text-decoration-color: #00d7ff\">None</span>, <span style=\"color: #00af00; text-decoration-color: #00af00\">32</span>)             │         <span style=\"color: #00af00; text-decoration-color: #00af00\">1,088</span> │\n",
       "├─────────────────────────────────┼────────────────────────┼───────────────┤\n",
       "│ dense (<span style=\"color: #0087ff; text-decoration-color: #0087ff\">Dense</span>)                   │ (<span style=\"color: #00d7ff; text-decoration-color: #00d7ff\">None</span>, <span style=\"color: #00af00; text-decoration-color: #00af00\">1</span>)              │            <span style=\"color: #00af00; text-decoration-color: #00af00\">33</span> │\n",
       "└─────────────────────────────────┴────────────────────────┴───────────────┘\n",
       "</pre>\n"
      ],
      "text/plain": [
       "┏━━━━━━━━━━━━━━━━━━━━━━━━━━━━━━━━━┳━━━━━━━━━━━━━━━━━━━━━━━━┳━━━━━━━━━━━━━━━┓\n",
       "┃\u001b[1m \u001b[0m\u001b[1mLayer (type)                   \u001b[0m\u001b[1m \u001b[0m┃\u001b[1m \u001b[0m\u001b[1mOutput Shape          \u001b[0m\u001b[1m \u001b[0m┃\u001b[1m \u001b[0m\u001b[1m      Param #\u001b[0m\u001b[1m \u001b[0m┃\n",
       "┡━━━━━━━━━━━━━━━━━━━━━━━━━━━━━━━━━╇━━━━━━━━━━━━━━━━━━━━━━━━╇━━━━━━━━━━━━━━━┩\n",
       "│ simple_rnn (\u001b[38;5;33mSimpleRNN\u001b[0m)          │ (\u001b[38;5;45mNone\u001b[0m, \u001b[38;5;34m32\u001b[0m)             │         \u001b[38;5;34m1,088\u001b[0m │\n",
       "├─────────────────────────────────┼────────────────────────┼───────────────┤\n",
       "│ dense (\u001b[38;5;33mDense\u001b[0m)                   │ (\u001b[38;5;45mNone\u001b[0m, \u001b[38;5;34m1\u001b[0m)              │            \u001b[38;5;34m33\u001b[0m │\n",
       "└─────────────────────────────────┴────────────────────────┴───────────────┘\n"
      ]
     },
     "metadata": {},
     "output_type": "display_data"
    },
    {
     "data": {
      "text/html": [
       "<pre style=\"white-space:pre;overflow-x:auto;line-height:normal;font-family:Menlo,'DejaVu Sans Mono',consolas,'Courier New',monospace\"><span style=\"font-weight: bold\"> Total params: </span><span style=\"color: #00af00; text-decoration-color: #00af00\">1,121</span> (4.38 KB)\n",
       "</pre>\n"
      ],
      "text/plain": [
       "\u001b[1m Total params: \u001b[0m\u001b[38;5;34m1,121\u001b[0m (4.38 KB)\n"
      ]
     },
     "metadata": {},
     "output_type": "display_data"
    },
    {
     "data": {
      "text/html": [
       "<pre style=\"white-space:pre;overflow-x:auto;line-height:normal;font-family:Menlo,'DejaVu Sans Mono',consolas,'Courier New',monospace\"><span style=\"font-weight: bold\"> Trainable params: </span><span style=\"color: #00af00; text-decoration-color: #00af00\">1,121</span> (4.38 KB)\n",
       "</pre>\n"
      ],
      "text/plain": [
       "\u001b[1m Trainable params: \u001b[0m\u001b[38;5;34m1,121\u001b[0m (4.38 KB)\n"
      ]
     },
     "metadata": {},
     "output_type": "display_data"
    },
    {
     "data": {
      "text/html": [
       "<pre style=\"white-space:pre;overflow-x:auto;line-height:normal;font-family:Menlo,'DejaVu Sans Mono',consolas,'Courier New',monospace\"><span style=\"font-weight: bold\"> Non-trainable params: </span><span style=\"color: #00af00; text-decoration-color: #00af00\">0</span> (0.00 B)\n",
       "</pre>\n"
      ],
      "text/plain": [
       "\u001b[1m Non-trainable params: \u001b[0m\u001b[38;5;34m0\u001b[0m (0.00 B)\n"
      ]
     },
     "metadata": {},
     "output_type": "display_data"
    }
   ],
   "source": [
    "simple_RNN= create_RNN_model(x_train=x_train_RNN_array, units= 32)\n",
    "simple_RNN.summary()"
   ]
  },
  {
   "cell_type": "markdown",
   "metadata": {},
   "source": [
    "## Train Model and Predict"
   ]
  },
  {
   "cell_type": "markdown",
   "metadata": {},
   "source": [
    "### Training the model"
   ]
  },
  {
   "cell_type": "code",
   "execution_count": 50,
   "metadata": {},
   "outputs": [
    {
     "name": "stdout",
     "output_type": "stream",
     "text": [
      "Epoch 1/50\n",
      "\u001b[1m4/4\u001b[0m \u001b[32m━━━━━━━━━━━━━━━━━━━━\u001b[0m\u001b[37m\u001b[0m \u001b[1m0s\u001b[0m 29ms/step - loss: 0.8055 - mean_absolute_error: 0.7056 - root_mean_squared_error: 0.8948 - val_loss: 2.1043 - val_mean_absolute_error: 1.1851 - val_root_mean_squared_error: 1.4506\n",
      "Epoch 2/50\n",
      "\u001b[1m4/4\u001b[0m \u001b[32m━━━━━━━━━━━━━━━━━━━━\u001b[0m\u001b[37m\u001b[0m \u001b[1m0s\u001b[0m 4ms/step - loss: 0.6662 - mean_absolute_error: 0.6195 - root_mean_squared_error: 0.8137 - val_loss: 1.3743 - val_mean_absolute_error: 0.8743 - val_root_mean_squared_error: 1.1723\n",
      "Epoch 3/50\n",
      "\u001b[1m4/4\u001b[0m \u001b[32m━━━━━━━━━━━━━━━━━━━━\u001b[0m\u001b[37m\u001b[0m \u001b[1m0s\u001b[0m 4ms/step - loss: 0.4408 - mean_absolute_error: 0.5010 - root_mean_squared_error: 0.6630 - val_loss: 0.9945 - val_mean_absolute_error: 0.6846 - val_root_mean_squared_error: 0.9973\n",
      "Epoch 4/50\n",
      "\u001b[1m4/4\u001b[0m \u001b[32m━━━━━━━━━━━━━━━━━━━━\u001b[0m\u001b[37m\u001b[0m \u001b[1m0s\u001b[0m 4ms/step - loss: 0.3455 - mean_absolute_error: 0.4598 - root_mean_squared_error: 0.5851 - val_loss: 0.8342 - val_mean_absolute_error: 0.6369 - val_root_mean_squared_error: 0.9133\n",
      "Epoch 5/50\n",
      "\u001b[1m4/4\u001b[0m \u001b[32m━━━━━━━━━━━━━━━━━━━━\u001b[0m\u001b[37m\u001b[0m \u001b[1m0s\u001b[0m 3ms/step - loss: 0.3314 - mean_absolute_error: 0.4499 - root_mean_squared_error: 0.5731 - val_loss: 0.7941 - val_mean_absolute_error: 0.6273 - val_root_mean_squared_error: 0.8911\n",
      "Epoch 6/50\n",
      "\u001b[1m4/4\u001b[0m \u001b[32m━━━━━━━━━━━━━━━━━━━━\u001b[0m\u001b[37m\u001b[0m \u001b[1m0s\u001b[0m 4ms/step - loss: 0.3302 - mean_absolute_error: 0.4485 - root_mean_squared_error: 0.5733 - val_loss: 0.7909 - val_mean_absolute_error: 0.6331 - val_root_mean_squared_error: 0.8893\n",
      "Epoch 7/50\n",
      "\u001b[1m4/4\u001b[0m \u001b[32m━━━━━━━━━━━━━━━━━━━━\u001b[0m\u001b[37m\u001b[0m \u001b[1m0s\u001b[0m 3ms/step - loss: 0.3433 - mean_absolute_error: 0.4453 - root_mean_squared_error: 0.5858 - val_loss: 0.8092 - val_mean_absolute_error: 0.6429 - val_root_mean_squared_error: 0.8995\n",
      "Epoch 8/50\n",
      "\u001b[1m4/4\u001b[0m \u001b[32m━━━━━━━━━━━━━━━━━━━━\u001b[0m\u001b[37m\u001b[0m \u001b[1m0s\u001b[0m 3ms/step - loss: 0.3206 - mean_absolute_error: 0.4215 - root_mean_squared_error: 0.5654 - val_loss: 0.8183 - val_mean_absolute_error: 0.6529 - val_root_mean_squared_error: 0.9046\n",
      "Epoch 9/50\n",
      "\u001b[1m4/4\u001b[0m \u001b[32m━━━━━━━━━━━━━━━━━━━━\u001b[0m\u001b[37m\u001b[0m \u001b[1m0s\u001b[0m 3ms/step - loss: 0.2777 - mean_absolute_error: 0.3961 - root_mean_squared_error: 0.5263 - val_loss: 0.7644 - val_mean_absolute_error: 0.6356 - val_root_mean_squared_error: 0.8743\n",
      "Epoch 10/50\n",
      "\u001b[1m4/4\u001b[0m \u001b[32m━━━━━━━━━━━━━━━━━━━━\u001b[0m\u001b[37m\u001b[0m \u001b[1m0s\u001b[0m 3ms/step - loss: 0.2879 - mean_absolute_error: 0.4074 - root_mean_squared_error: 0.5357 - val_loss: 0.7104 - val_mean_absolute_error: 0.6163 - val_root_mean_squared_error: 0.8428\n",
      "Epoch 11/50\n",
      "\u001b[1m4/4\u001b[0m \u001b[32m━━━━━━━━━━━━━━━━━━━━\u001b[0m\u001b[37m\u001b[0m \u001b[1m0s\u001b[0m 3ms/step - loss: 0.2951 - mean_absolute_error: 0.4092 - root_mean_squared_error: 0.5426 - val_loss: 0.6730 - val_mean_absolute_error: 0.6028 - val_root_mean_squared_error: 0.8204\n",
      "Epoch 12/50\n",
      "\u001b[1m4/4\u001b[0m \u001b[32m━━━━━━━━━━━━━━━━━━━━\u001b[0m\u001b[37m\u001b[0m \u001b[1m0s\u001b[0m 3ms/step - loss: 0.2455 - mean_absolute_error: 0.3687 - root_mean_squared_error: 0.4951 - val_loss: 0.6501 - val_mean_absolute_error: 0.5922 - val_root_mean_squared_error: 0.8063\n",
      "Epoch 13/50\n",
      "\u001b[1m4/4\u001b[0m \u001b[32m━━━━━━━━━━━━━━━━━━━━\u001b[0m\u001b[37m\u001b[0m \u001b[1m0s\u001b[0m 3ms/step - loss: 0.2562 - mean_absolute_error: 0.3903 - root_mean_squared_error: 0.5061 - val_loss: 0.6376 - val_mean_absolute_error: 0.5852 - val_root_mean_squared_error: 0.7985\n",
      "Epoch 14/50\n",
      "\u001b[1m4/4\u001b[0m \u001b[32m━━━━━━━━━━━━━━━━━━━━\u001b[0m\u001b[37m\u001b[0m \u001b[1m0s\u001b[0m 3ms/step - loss: 0.2184 - mean_absolute_error: 0.3561 - root_mean_squared_error: 0.4655 - val_loss: 0.6246 - val_mean_absolute_error: 0.5812 - val_root_mean_squared_error: 0.7903\n",
      "Epoch 15/50\n",
      "\u001b[1m4/4\u001b[0m \u001b[32m━━━━━━━━━━━━━━━━━━━━\u001b[0m\u001b[37m\u001b[0m \u001b[1m0s\u001b[0m 3ms/step - loss: 0.2468 - mean_absolute_error: 0.3748 - root_mean_squared_error: 0.4965 - val_loss: 0.5788 - val_mean_absolute_error: 0.5566 - val_root_mean_squared_error: 0.7608\n",
      "Epoch 16/50\n",
      "\u001b[1m4/4\u001b[0m \u001b[32m━━━━━━━━━━━━━━━━━━━━\u001b[0m\u001b[37m\u001b[0m \u001b[1m0s\u001b[0m 4ms/step - loss: 0.2182 - mean_absolute_error: 0.3524 - root_mean_squared_error: 0.4668 - val_loss: 0.5331 - val_mean_absolute_error: 0.5343 - val_root_mean_squared_error: 0.7301\n",
      "Epoch 17/50\n",
      "\u001b[1m4/4\u001b[0m \u001b[32m━━━━━━━━━━━━━━━━━━━━\u001b[0m\u001b[37m\u001b[0m \u001b[1m0s\u001b[0m 4ms/step - loss: 0.2207 - mean_absolute_error: 0.3565 - root_mean_squared_error: 0.4696 - val_loss: 0.5069 - val_mean_absolute_error: 0.5192 - val_root_mean_squared_error: 0.7120\n",
      "Epoch 18/50\n",
      "\u001b[1m4/4\u001b[0m \u001b[32m━━━━━━━━━━━━━━━━━━━━\u001b[0m\u001b[37m\u001b[0m \u001b[1m0s\u001b[0m 3ms/step - loss: 0.2393 - mean_absolute_error: 0.3732 - root_mean_squared_error: 0.4884 - val_loss: 0.5055 - val_mean_absolute_error: 0.5178 - val_root_mean_squared_error: 0.7110\n",
      "Epoch 19/50\n",
      "\u001b[1m4/4\u001b[0m \u001b[32m━━━━━━━━━━━━━━━━━━━━\u001b[0m\u001b[37m\u001b[0m \u001b[1m0s\u001b[0m 3ms/step - loss: 0.2129 - mean_absolute_error: 0.3550 - root_mean_squared_error: 0.4610 - val_loss: 0.5087 - val_mean_absolute_error: 0.5224 - val_root_mean_squared_error: 0.7132\n",
      "Epoch 20/50\n",
      "\u001b[1m4/4\u001b[0m \u001b[32m━━━━━━━━━━━━━━━━━━━━\u001b[0m\u001b[37m\u001b[0m \u001b[1m0s\u001b[0m 3ms/step - loss: 0.2014 - mean_absolute_error: 0.3420 - root_mean_squared_error: 0.4485 - val_loss: 0.5130 - val_mean_absolute_error: 0.5341 - val_root_mean_squared_error: 0.7162\n",
      "Epoch 21/50\n",
      "\u001b[1m4/4\u001b[0m \u001b[32m━━━━━━━━━━━━━━━━━━━━\u001b[0m\u001b[37m\u001b[0m \u001b[1m0s\u001b[0m 3ms/step - loss: 0.2047 - mean_absolute_error: 0.3456 - root_mean_squared_error: 0.4521 - val_loss: 0.4956 - val_mean_absolute_error: 0.5244 - val_root_mean_squared_error: 0.7040\n",
      "Epoch 22/50\n",
      "\u001b[1m4/4\u001b[0m \u001b[32m━━━━━━━━━━━━━━━━━━━━\u001b[0m\u001b[37m\u001b[0m \u001b[1m0s\u001b[0m 3ms/step - loss: 0.2002 - mean_absolute_error: 0.3417 - root_mean_squared_error: 0.4474 - val_loss: 0.4664 - val_mean_absolute_error: 0.5017 - val_root_mean_squared_error: 0.6829\n",
      "Epoch 23/50\n",
      "\u001b[1m4/4\u001b[0m \u001b[32m━━━━━━━━━━━━━━━━━━━━\u001b[0m\u001b[37m\u001b[0m \u001b[1m0s\u001b[0m 3ms/step - loss: 0.2109 - mean_absolute_error: 0.3524 - root_mean_squared_error: 0.4584 - val_loss: 0.4453 - val_mean_absolute_error: 0.4854 - val_root_mean_squared_error: 0.6673\n",
      "Epoch 24/50\n",
      "\u001b[1m4/4\u001b[0m \u001b[32m━━━━━━━━━━━━━━━━━━━━\u001b[0m\u001b[37m\u001b[0m \u001b[1m0s\u001b[0m 3ms/step - loss: 0.2013 - mean_absolute_error: 0.3436 - root_mean_squared_error: 0.4481 - val_loss: 0.4535 - val_mean_absolute_error: 0.5010 - val_root_mean_squared_error: 0.6735\n",
      "Epoch 25/50\n",
      "\u001b[1m4/4\u001b[0m \u001b[32m━━━━━━━━━━━━━━━━━━━━\u001b[0m\u001b[37m\u001b[0m \u001b[1m0s\u001b[0m 3ms/step - loss: 0.2013 - mean_absolute_error: 0.3403 - root_mean_squared_error: 0.4478 - val_loss: 0.4401 - val_mean_absolute_error: 0.4930 - val_root_mean_squared_error: 0.6634\n",
      "Epoch 26/50\n",
      "\u001b[1m4/4\u001b[0m \u001b[32m━━━━━━━━━━━━━━━━━━━━\u001b[0m\u001b[37m\u001b[0m \u001b[1m0s\u001b[0m 3ms/step - loss: 0.1934 - mean_absolute_error: 0.3267 - root_mean_squared_error: 0.4390 - val_loss: 0.4134 - val_mean_absolute_error: 0.4708 - val_root_mean_squared_error: 0.6430\n",
      "Epoch 27/50\n",
      "\u001b[1m4/4\u001b[0m \u001b[32m━━━━━━━━━━━━━━━━━━━━\u001b[0m\u001b[37m\u001b[0m \u001b[1m0s\u001b[0m 3ms/step - loss: 0.1626 - mean_absolute_error: 0.3092 - root_mean_squared_error: 0.4025 - val_loss: 0.4005 - val_mean_absolute_error: 0.4662 - val_root_mean_squared_error: 0.6328\n",
      "Epoch 28/50\n",
      "\u001b[1m4/4\u001b[0m \u001b[32m━━━━━━━━━━━━━━━━━━━━\u001b[0m\u001b[37m\u001b[0m \u001b[1m0s\u001b[0m 3ms/step - loss: 0.1674 - mean_absolute_error: 0.3032 - root_mean_squared_error: 0.4089 - val_loss: 0.3982 - val_mean_absolute_error: 0.4690 - val_root_mean_squared_error: 0.6310\n",
      "Epoch 29/50\n",
      "\u001b[1m4/4\u001b[0m \u001b[32m━━━━━━━━━━━━━━━━━━━━\u001b[0m\u001b[37m\u001b[0m \u001b[1m0s\u001b[0m 3ms/step - loss: 0.1736 - mean_absolute_error: 0.3179 - root_mean_squared_error: 0.4165 - val_loss: 0.3997 - val_mean_absolute_error: 0.4737 - val_root_mean_squared_error: 0.6322\n",
      "Epoch 30/50\n",
      "\u001b[1m4/4\u001b[0m \u001b[32m━━━━━━━━━━━━━━━━━━━━\u001b[0m\u001b[37m\u001b[0m \u001b[1m0s\u001b[0m 3ms/step - loss: 0.1484 - mean_absolute_error: 0.2945 - root_mean_squared_error: 0.3846 - val_loss: 0.4075 - val_mean_absolute_error: 0.4856 - val_root_mean_squared_error: 0.6384\n",
      "Epoch 31/50\n",
      "\u001b[1m4/4\u001b[0m \u001b[32m━━━━━━━━━━━━━━━━━━━━\u001b[0m\u001b[37m\u001b[0m \u001b[1m0s\u001b[0m 3ms/step - loss: 0.1472 - mean_absolute_error: 0.2933 - root_mean_squared_error: 0.3828 - val_loss: 0.3884 - val_mean_absolute_error: 0.4764 - val_root_mean_squared_error: 0.6232\n",
      "Epoch 32/50\n",
      "\u001b[1m4/4\u001b[0m \u001b[32m━━━━━━━━━━━━━━━━━━━━\u001b[0m\u001b[37m\u001b[0m \u001b[1m0s\u001b[0m 3ms/step - loss: 0.1608 - mean_absolute_error: 0.3107 - root_mean_squared_error: 0.4009 - val_loss: 0.3756 - val_mean_absolute_error: 0.4732 - val_root_mean_squared_error: 0.6128\n",
      "Epoch 33/50\n",
      "\u001b[1m4/4\u001b[0m \u001b[32m━━━━━━━━━━━━━━━━━━━━\u001b[0m\u001b[37m\u001b[0m \u001b[1m0s\u001b[0m 3ms/step - loss: 0.1502 - mean_absolute_error: 0.2984 - root_mean_squared_error: 0.3871 - val_loss: 0.3831 - val_mean_absolute_error: 0.4812 - val_root_mean_squared_error: 0.6189\n",
      "Epoch 34/50\n",
      "\u001b[1m4/4\u001b[0m \u001b[32m━━━━━━━━━━━━━━━━━━━━\u001b[0m\u001b[37m\u001b[0m \u001b[1m0s\u001b[0m 3ms/step - loss: 0.1680 - mean_absolute_error: 0.3132 - root_mean_squared_error: 0.4093 - val_loss: 0.3721 - val_mean_absolute_error: 0.4754 - val_root_mean_squared_error: 0.6100\n",
      "Epoch 35/50\n",
      "\u001b[1m4/4\u001b[0m \u001b[32m━━━━━━━━━━━━━━━━━━━━\u001b[0m\u001b[37m\u001b[0m \u001b[1m0s\u001b[0m 4ms/step - loss: 0.1462 - mean_absolute_error: 0.2971 - root_mean_squared_error: 0.3821 - val_loss: 0.3655 - val_mean_absolute_error: 0.4727 - val_root_mean_squared_error: 0.6046\n",
      "Epoch 36/50\n",
      "\u001b[1m4/4\u001b[0m \u001b[32m━━━━━━━━━━━━━━━━━━━━\u001b[0m\u001b[37m\u001b[0m \u001b[1m0s\u001b[0m 4ms/step - loss: 0.1440 - mean_absolute_error: 0.3000 - root_mean_squared_error: 0.3793 - val_loss: 0.3477 - val_mean_absolute_error: 0.4625 - val_root_mean_squared_error: 0.5896\n",
      "Epoch 37/50\n",
      "\u001b[1m4/4\u001b[0m \u001b[32m━━━━━━━━━━━━━━━━━━━━\u001b[0m\u001b[37m\u001b[0m \u001b[1m0s\u001b[0m 3ms/step - loss: 0.1637 - mean_absolute_error: 0.3148 - root_mean_squared_error: 0.4036 - val_loss: 0.3258 - val_mean_absolute_error: 0.4477 - val_root_mean_squared_error: 0.5708\n",
      "Epoch 38/50\n",
      "\u001b[1m4/4\u001b[0m \u001b[32m━━━━━━━━━━━━━━━━━━━━\u001b[0m\u001b[37m\u001b[0m \u001b[1m0s\u001b[0m 3ms/step - loss: 0.1634 - mean_absolute_error: 0.3121 - root_mean_squared_error: 0.4035 - val_loss: 0.3074 - val_mean_absolute_error: 0.4314 - val_root_mean_squared_error: 0.5544\n",
      "Epoch 39/50\n",
      "\u001b[1m4/4\u001b[0m \u001b[32m━━━━━━━━━━━━━━━━━━━━\u001b[0m\u001b[37m\u001b[0m \u001b[1m0s\u001b[0m 3ms/step - loss: 0.1347 - mean_absolute_error: 0.2802 - root_mean_squared_error: 0.3666 - val_loss: 0.3069 - val_mean_absolute_error: 0.4370 - val_root_mean_squared_error: 0.5540\n",
      "Epoch 40/50\n",
      "\u001b[1m4/4\u001b[0m \u001b[32m━━━━━━━━━━━━━━━━━━━━\u001b[0m\u001b[37m\u001b[0m \u001b[1m0s\u001b[0m 3ms/step - loss: 0.1362 - mean_absolute_error: 0.2855 - root_mean_squared_error: 0.3689 - val_loss: 0.3155 - val_mean_absolute_error: 0.4490 - val_root_mean_squared_error: 0.5617\n",
      "Epoch 41/50\n",
      "\u001b[1m4/4\u001b[0m \u001b[32m━━━━━━━━━━━━━━━━━━━━\u001b[0m\u001b[37m\u001b[0m \u001b[1m0s\u001b[0m 3ms/step - loss: 0.1519 - mean_absolute_error: 0.3057 - root_mean_squared_error: 0.3891 - val_loss: 0.3301 - val_mean_absolute_error: 0.4610 - val_root_mean_squared_error: 0.5745\n",
      "Epoch 42/50\n",
      "\u001b[1m4/4\u001b[0m \u001b[32m━━━━━━━━━━━━━━━━━━━━\u001b[0m\u001b[37m\u001b[0m \u001b[1m0s\u001b[0m 3ms/step - loss: 0.1468 - mean_absolute_error: 0.2947 - root_mean_squared_error: 0.3828 - val_loss: 0.3138 - val_mean_absolute_error: 0.4508 - val_root_mean_squared_error: 0.5601\n",
      "Epoch 43/50\n",
      "\u001b[1m4/4\u001b[0m \u001b[32m━━━━━━━━━━━━━━━━━━━━\u001b[0m\u001b[37m\u001b[0m \u001b[1m0s\u001b[0m 3ms/step - loss: 0.1433 - mean_absolute_error: 0.3015 - root_mean_squared_error: 0.3777 - val_loss: 0.2839 - val_mean_absolute_error: 0.4186 - val_root_mean_squared_error: 0.5328\n",
      "Epoch 44/50\n",
      "\u001b[1m4/4\u001b[0m \u001b[32m━━━━━━━━━━━━━━━━━━━━\u001b[0m\u001b[37m\u001b[0m \u001b[1m0s\u001b[0m 3ms/step - loss: 0.1241 - mean_absolute_error: 0.2658 - root_mean_squared_error: 0.3517 - val_loss: 0.2849 - val_mean_absolute_error: 0.4267 - val_root_mean_squared_error: 0.5338\n",
      "Epoch 45/50\n",
      "\u001b[1m4/4\u001b[0m \u001b[32m━━━━━━━━━━━━━━━━━━━━\u001b[0m\u001b[37m\u001b[0m \u001b[1m0s\u001b[0m 3ms/step - loss: 0.1360 - mean_absolute_error: 0.2856 - root_mean_squared_error: 0.3673 - val_loss: 0.2857 - val_mean_absolute_error: 0.4327 - val_root_mean_squared_error: 0.5345\n",
      "Epoch 46/50\n",
      "\u001b[1m4/4\u001b[0m \u001b[32m━━━━━━━━━━━━━━━━━━━━\u001b[0m\u001b[37m\u001b[0m \u001b[1m0s\u001b[0m 3ms/step - loss: 0.1582 - mean_absolute_error: 0.3106 - root_mean_squared_error: 0.3970 - val_loss: 0.2728 - val_mean_absolute_error: 0.4187 - val_root_mean_squared_error: 0.5223\n",
      "Epoch 47/50\n",
      "\u001b[1m4/4\u001b[0m \u001b[32m━━━━━━━━━━━━━━━━━━━━\u001b[0m\u001b[37m\u001b[0m \u001b[1m0s\u001b[0m 3ms/step - loss: 0.1289 - mean_absolute_error: 0.2828 - root_mean_squared_error: 0.3586 - val_loss: 0.2881 - val_mean_absolute_error: 0.4366 - val_root_mean_squared_error: 0.5368\n",
      "Epoch 48/50\n",
      "\u001b[1m4/4\u001b[0m \u001b[32m━━━━━━━━━━━━━━━━━━━━\u001b[0m\u001b[37m\u001b[0m \u001b[1m0s\u001b[0m 3ms/step - loss: 0.1175 - mean_absolute_error: 0.2682 - root_mean_squared_error: 0.3419 - val_loss: 0.2785 - val_mean_absolute_error: 0.4278 - val_root_mean_squared_error: 0.5277\n",
      "Epoch 49/50\n",
      "\u001b[1m4/4\u001b[0m \u001b[32m━━━━━━━━━━━━━━━━━━━━\u001b[0m\u001b[37m\u001b[0m \u001b[1m0s\u001b[0m 3ms/step - loss: 0.1062 - mean_absolute_error: 0.2537 - root_mean_squared_error: 0.3245 - val_loss: 0.2629 - val_mean_absolute_error: 0.4111 - val_root_mean_squared_error: 0.5127\n",
      "Epoch 50/50\n",
      "\u001b[1m4/4\u001b[0m \u001b[32m━━━━━━━━━━━━━━━━━━━━\u001b[0m\u001b[37m\u001b[0m \u001b[1m0s\u001b[0m 3ms/step - loss: 0.1136 - mean_absolute_error: 0.2660 - root_mean_squared_error: 0.3369 - val_loss: 0.2508 - val_mean_absolute_error: 0.3989 - val_root_mean_squared_error: 0.5008\n"
     ]
    }
   ],
   "source": [
    "history = simple_RNN.fit(x_train_RNN_array, y_train_scaled , epochs=50, batch_size=32, \n",
    "                            validation_data=(x_val_RNN_array, y_val_scaled), verbose=1)"
   ]
  },
  {
   "cell_type": "markdown",
   "metadata": {},
   "source": [
    "### Evaluate Training"
   ]
  },
  {
   "cell_type": "code",
   "execution_count": 51,
   "metadata": {},
   "outputs": [
    {
     "data": {
      "image/png": "[encoded data removed]",
      "text/plain": [
       "<Figure size 700x300 with 1 Axes>"
      ]
     },
     "metadata": {},
     "output_type": "display_data"
    }
   ],
   "source": [
    "# Plot the loss by epoch of train and validation data\n",
    "plt.figure(figsize=(7, 3))\n",
    "plt.plot(history.history['loss'], label='train_loss')\n",
    "plt.plot(history.history['val_loss'], label='validation_loss')\n",
    "plt.legend()\n",
    "plt.title('Loss by Epoch')\n",
    "plt.show()"
   ]
  },
  {
   "cell_type": "markdown",
   "metadata": {},
   "source": [
    "### Evaluate prediction on the test set"
   ]
  },
  {
   "cell_type": "code",
   "execution_count": 52,
   "metadata": {},
   "outputs": [
    {
     "name": "stdout",
     "output_type": "stream",
     "text": [
      "\u001b[1m1/1\u001b[0m \u001b[32m━━━━━━━━━━━━━━━━━━━━\u001b[0m\u001b[37m\u001b[0m \u001b[1m0s\u001b[0m 49ms/step\n"
     ]
    },
    {
     "data": {
      "image/png": "[encoded data removed]",
      "text/plain": [
       "<Figure size 800x300 with 1 Axes>"
      ]
     },
     "metadata": {},
     "output_type": "display_data"
    }
   ],
   "source": [
    "y_pred_scaled= simple_RNN.predict(x_test_RNN_array)\n",
    "# inverse transform the scaled y values to the original scale\n",
    "y_pred= y_scaler.inverse_transform(y_pred_scaled)\n",
    "y_pred= pd.Series(y_pred.flatten(), index=y_test.index)\n",
    "\n",
    "# evaluate the model eror \n",
    "rmse = np.sqrt(np.mean((y_test.values - y_pred.values)**2))\n",
    "\n",
    "# Plot the forecast vs actual\n",
    "time_index= y_test.index\n",
    "plt.figure(figsize=(8, 3))\n",
    "plt.plot(time_index, y_test, label='actual')\n",
    "plt.plot(time_index, y_pred, label='forecast')\n",
    "# print the RMSE on the plot\n",
    "plt.title(f'Forecast vs Actual - RMSE: {rmse:.2f}')\n",
    "plt.legend()\n",
    "plt.show()\n"
   ]
  },
  {
   "cell_type": "markdown",
   "metadata": {},
   "source": [
    "# LSTM (Long Short Term Memory)"
   ]
  },
  {
   "cell_type": "code",
   "execution_count": 53,
   "metadata": {},
   "outputs": [],
   "source": [
    "keras.backend.clear_session()"
   ]
  },
  {
   "cell_type": "markdown",
   "metadata": {},
   "source": [
    "## Create Model"
   ]
  },
  {
   "cell_type": "code",
   "execution_count": 54,
   "metadata": {},
   "outputs": [],
   "source": [
    "def create_LSTM_model(x_train, units):\n",
    "    model = keras.Sequential()\n",
    "    model.add(LSTM(units=units, input_shape=(x_train.shape[1], x_train.shape[2])))\n",
    "    model.add(Dense(10, activation='relu'))\n",
    "    model.add(Dense(1))\n",
    "    model.compile(optimizer='adam', loss='mean_squared_error', metrics=[RootMeanSquaredError(), MeanAbsoluteError()])\n",
    "    return model"
   ]
  },
  {
   "cell_type": "code",
   "execution_count": 55,
   "metadata": {},
   "outputs": [
    {
     "data": {
      "text/html": [
       "<pre style=\"white-space:pre;overflow-x:auto;line-height:normal;font-family:Menlo,'DejaVu Sans Mono',consolas,'Courier New',monospace\"><span style=\"font-weight: bold\">Model: \"sequential\"</span>\n",
       "</pre>\n"
      ],
      "text/plain": [
       "\u001b[1mModel: \"sequential\"\u001b[0m\n"
      ]
     },
     "metadata": {},
     "output_type": "display_data"
    },
    {
     "data": {
      "text/html": [
       "<pre style=\"white-space:pre;overflow-x:auto;line-height:normal;font-family:Menlo,'DejaVu Sans Mono',consolas,'Courier New',monospace\">┏━━━━━━━━━━━━━━━━━━━━━━━━━━━━━━━━━┳━━━━━━━━━━━━━━━━━━━━━━━━┳━━━━━━━━━━━━━━━┓\n",
       "┃<span style=\"font-weight: bold\"> Layer (type)                    </span>┃<span style=\"font-weight: bold\"> Output Shape           </span>┃<span style=\"font-weight: bold\">       Param # </span>┃\n",
       "┡━━━━━━━━━━━━━━━━━━━━━━━━━━━━━━━━━╇━━━━━━━━━━━━━━━━━━━━━━━━╇━━━━━━━━━━━━━━━┩\n",
       "│ lstm (<span style=\"color: #0087ff; text-decoration-color: #0087ff\">LSTM</span>)                     │ (<span style=\"color: #00d7ff; text-decoration-color: #00d7ff\">None</span>, <span style=\"color: #00af00; text-decoration-color: #00af00\">16</span>)             │         <span style=\"color: #00af00; text-decoration-color: #00af00\">1,152</span> │\n",
       "├─────────────────────────────────┼────────────────────────┼───────────────┤\n",
       "│ dense (<span style=\"color: #0087ff; text-decoration-color: #0087ff\">Dense</span>)                   │ (<span style=\"color: #00d7ff; text-decoration-color: #00d7ff\">None</span>, <span style=\"color: #00af00; text-decoration-color: #00af00\">10</span>)             │           <span style=\"color: #00af00; text-decoration-color: #00af00\">170</span> │\n",
       "├─────────────────────────────────┼────────────────────────┼───────────────┤\n",
       "│ dense_1 (<span style=\"color: #0087ff; text-decoration-color: #0087ff\">Dense</span>)                 │ (<span style=\"color: #00d7ff; text-decoration-color: #00d7ff\">None</span>, <span style=\"color: #00af00; text-decoration-color: #00af00\">1</span>)              │            <span style=\"color: #00af00; text-decoration-color: #00af00\">11</span> │\n",
       "└─────────────────────────────────┴────────────────────────┴───────────────┘\n",
       "</pre>\n"
      ],
      "text/plain": [
       "┏━━━━━━━━━━━━━━━━━━━━━━━━━━━━━━━━━┳━━━━━━━━━━━━━━━━━━━━━━━━┳━━━━━━━━━━━━━━━┓\n",
       "┃\u001b[1m \u001b[0m\u001b[1mLayer (type)                   \u001b[0m\u001b[1m \u001b[0m┃\u001b[1m \u001b[0m\u001b[1mOutput Shape          \u001b[0m\u001b[1m \u001b[0m┃\u001b[1m \u001b[0m\u001b[1m      Param #\u001b[0m\u001b[1m \u001b[0m┃\n",
       "┡━━━━━━━━━━━━━━━━━━━━━━━━━━━━━━━━━╇━━━━━━━━━━━━━━━━━━━━━━━━╇━━━━━━━━━━━━━━━┩\n",
       "│ lstm (\u001b[38;5;33mLSTM\u001b[0m)                     │ (\u001b[38;5;45mNone\u001b[0m, \u001b[38;5;34m16\u001b[0m)             │         \u001b[38;5;34m1,152\u001b[0m │\n",
       "├─────────────────────────────────┼────────────────────────┼───────────────┤\n",
       "│ dense (\u001b[38;5;33mDense\u001b[0m)                   │ (\u001b[38;5;45mNone\u001b[0m, \u001b[38;5;34m10\u001b[0m)             │           \u001b[38;5;34m170\u001b[0m │\n",
       "├─────────────────────────────────┼────────────────────────┼───────────────┤\n",
       "│ dense_1 (\u001b[38;5;33mDense\u001b[0m)                 │ (\u001b[38;5;45mNone\u001b[0m, \u001b[38;5;34m1\u001b[0m)              │            \u001b[38;5;34m11\u001b[0m │\n",
       "└─────────────────────────────────┴────────────────────────┴───────────────┘\n"
      ]
     },
     "metadata": {},
     "output_type": "display_data"
    },
    {
     "data": {
      "text/html": [
       "<pre style=\"white-space:pre;overflow-x:auto;line-height:normal;font-family:Menlo,'DejaVu Sans Mono',consolas,'Courier New',monospace\"><span style=\"font-weight: bold\"> Total params: </span><span style=\"color: #00af00; text-decoration-color: #00af00\">1,333</span> (5.21 KB)\n",
       "</pre>\n"
      ],
      "text/plain": [
       "\u001b[1m Total params: \u001b[0m\u001b[38;5;34m1,333\u001b[0m (5.21 KB)\n"
      ]
     },
     "metadata": {},
     "output_type": "display_data"
    },
    {
     "data": {
      "text/html": [
       "<pre style=\"white-space:pre;overflow-x:auto;line-height:normal;font-family:Menlo,'DejaVu Sans Mono',consolas,'Courier New',monospace\"><span style=\"font-weight: bold\"> Trainable params: </span><span style=\"color: #00af00; text-decoration-color: #00af00\">1,333</span> (5.21 KB)\n",
       "</pre>\n"
      ],
      "text/plain": [
       "\u001b[1m Trainable params: \u001b[0m\u001b[38;5;34m1,333\u001b[0m (5.21 KB)\n"
      ]
     },
     "metadata": {},
     "output_type": "display_data"
    },
    {
     "data": {
      "text/html": [
       "<pre style=\"white-space:pre;overflow-x:auto;line-height:normal;font-family:Menlo,'DejaVu Sans Mono',consolas,'Courier New',monospace\"><span style=\"font-weight: bold\"> Non-trainable params: </span><span style=\"color: #00af00; text-decoration-color: #00af00\">0</span> (0.00 B)\n",
       "</pre>\n"
      ],
      "text/plain": [
       "\u001b[1m Non-trainable params: \u001b[0m\u001b[38;5;34m0\u001b[0m (0.00 B)\n"
      ]
     },
     "metadata": {},
     "output_type": "display_data"
    }
   ],
   "source": [
    "simple_LSTM= create_LSTM_model(x_train=x_train_RNN_array, units=16)\n",
    "simple_LSTM.summary()"
   ]
  },
  {
   "cell_type": "markdown",
   "metadata": {},
   "source": [
    "## Train Model and Predict"
   ]
  },
  {
   "cell_type": "code",
   "execution_count": 56,
   "metadata": {},
   "outputs": [
    {
     "name": "stdout",
     "output_type": "stream",
     "text": [
      "Epoch 1/50\n",
      "\u001b[1m4/4\u001b[0m \u001b[32m━━━━━━━━━━━━━━━━━━━━\u001b[0m\u001b[37m\u001b[0m \u001b[1m1s\u001b[0m 32ms/step - loss: 1.1565 - mean_absolute_error: 0.8466 - root_mean_squared_error: 1.0749 - val_loss: 4.2100 - val_mean_absolute_error: 1.9425 - val_root_mean_squared_error: 2.0518\n",
      "Epoch 2/50\n",
      "\u001b[1m4/4\u001b[0m \u001b[32m━━━━━━━━━━━━━━━━━━━━\u001b[0m\u001b[37m\u001b[0m \u001b[1m0s\u001b[0m 4ms/step - loss: 0.9387 - mean_absolute_error: 0.7664 - root_mean_squared_error: 0.9665 - val_loss: 3.9221 - val_mean_absolute_error: 1.8666 - val_root_mean_squared_error: 1.9804\n",
      "Epoch 3/50\n",
      "\u001b[1m4/4\u001b[0m \u001b[32m━━━━━━━━━━━━━━━━━━━━\u001b[0m\u001b[37m\u001b[0m \u001b[1m0s\u001b[0m 4ms/step - loss: 0.9227 - mean_absolute_error: 0.7387 - root_mean_squared_error: 0.9598 - val_loss: 3.7267 - val_mean_absolute_error: 1.8149 - val_root_mean_squared_error: 1.9305\n",
      "Epoch 4/50\n",
      "\u001b[1m4/4\u001b[0m \u001b[32m━━━━━━━━━━━━━━━━━━━━\u001b[0m\u001b[37m\u001b[0m \u001b[1m0s\u001b[0m 4ms/step - loss: 0.9106 - mean_absolute_error: 0.7406 - root_mean_squared_error: 0.9541 - val_loss: 3.5637 - val_mean_absolute_error: 1.7707 - val_root_mean_squared_error: 1.8878\n",
      "Epoch 5/50\n",
      "\u001b[1m4/4\u001b[0m \u001b[32m━━━━━━━━━━━━━━━━━━━━\u001b[0m\u001b[37m\u001b[0m \u001b[1m0s\u001b[0m 4ms/step - loss: 0.8730 - mean_absolute_error: 0.7028 - root_mean_squared_error: 0.9338 - val_loss: 3.4417 - val_mean_absolute_error: 1.7362 - val_root_mean_squared_error: 1.8552\n",
      "Epoch 6/50\n",
      "\u001b[1m4/4\u001b[0m \u001b[32m━━━━━━━━━━━━━━━━━━━━\u001b[0m\u001b[37m\u001b[0m \u001b[1m0s\u001b[0m 4ms/step - loss: 0.7735 - mean_absolute_error: 0.6543 - root_mean_squared_error: 0.8792 - val_loss: 3.3375 - val_mean_absolute_error: 1.7054 - val_root_mean_squared_error: 1.8269\n",
      "Epoch 7/50\n",
      "\u001b[1m4/4\u001b[0m \u001b[32m━━━━━━━━━━━━━━━━━━━━\u001b[0m\u001b[37m\u001b[0m \u001b[1m0s\u001b[0m 4ms/step - loss: 0.7204 - mean_absolute_error: 0.6222 - root_mean_squared_error: 0.8479 - val_loss: 3.2579 - val_mean_absolute_error: 1.6798 - val_root_mean_squared_error: 1.8050\n",
      "Epoch 8/50\n",
      "\u001b[1m4/4\u001b[0m \u001b[32m━━━━━━━━━━━━━━━━━━━━\u001b[0m\u001b[37m\u001b[0m \u001b[1m0s\u001b[0m 4ms/step - loss: 0.7869 - mean_absolute_error: 0.6440 - root_mean_squared_error: 0.8841 - val_loss: 3.2052 - val_mean_absolute_error: 1.6621 - val_root_mean_squared_error: 1.7903\n",
      "Epoch 9/50\n",
      "\u001b[1m4/4\u001b[0m \u001b[32m━━━━━━━━━━━━━━━━━━━━\u001b[0m\u001b[37m\u001b[0m \u001b[1m0s\u001b[0m 8ms/step - loss: 0.6650 - mean_absolute_error: 0.5701 - root_mean_squared_error: 0.8122 - val_loss: 3.1865 - val_mean_absolute_error: 1.6565 - val_root_mean_squared_error: 1.7851\n",
      "Epoch 10/50\n",
      "\u001b[1m4/4\u001b[0m \u001b[32m━━━━━━━━━━━━━━━━━━━━\u001b[0m\u001b[37m\u001b[0m \u001b[1m0s\u001b[0m 6ms/step - loss: 0.6588 - mean_absolute_error: 0.5614 - root_mean_squared_error: 0.8102 - val_loss: 3.1698 - val_mean_absolute_error: 1.6514 - val_root_mean_squared_error: 1.7804\n",
      "Epoch 11/50\n",
      "\u001b[1m4/4\u001b[0m \u001b[32m━━━━━━━━━━━━━━━━━━━━\u001b[0m\u001b[37m\u001b[0m \u001b[1m0s\u001b[0m 4ms/step - loss: 0.8192 - mean_absolute_error: 0.6091 - root_mean_squared_error: 0.8985 - val_loss: 3.1507 - val_mean_absolute_error: 1.6456 - val_root_mean_squared_error: 1.7750\n",
      "Epoch 12/50\n",
      "\u001b[1m4/4\u001b[0m \u001b[32m━━━━━━━━━━━━━━━━━━━━\u001b[0m\u001b[37m\u001b[0m \u001b[1m0s\u001b[0m 5ms/step - loss: 0.6785 - mean_absolute_error: 0.5443 - root_mean_squared_error: 0.8227 - val_loss: 3.1307 - val_mean_absolute_error: 1.6395 - val_root_mean_squared_error: 1.7694\n",
      "Epoch 13/50\n",
      "\u001b[1m4/4\u001b[0m \u001b[32m━━━━━━━━━━━━━━━━━━━━\u001b[0m\u001b[37m\u001b[0m \u001b[1m0s\u001b[0m 4ms/step - loss: 0.7353 - mean_absolute_error: 0.5703 - root_mean_squared_error: 0.8559 - val_loss: 3.1103 - val_mean_absolute_error: 1.6332 - val_root_mean_squared_error: 1.7636\n",
      "Epoch 14/50\n",
      "\u001b[1m4/4\u001b[0m \u001b[32m━━━━━━━━━━━━━━━━━━━━\u001b[0m\u001b[37m\u001b[0m \u001b[1m0s\u001b[0m 4ms/step - loss: 0.7191 - mean_absolute_error: 0.5579 - root_mean_squared_error: 0.8439 - val_loss: 3.0897 - val_mean_absolute_error: 1.6269 - val_root_mean_squared_error: 1.7578\n",
      "Epoch 15/50\n",
      "\u001b[1m4/4\u001b[0m \u001b[32m━━━━━━━━━━━━━━━━━━━━\u001b[0m\u001b[37m\u001b[0m \u001b[1m0s\u001b[0m 4ms/step - loss: 0.5692 - mean_absolute_error: 0.5167 - root_mean_squared_error: 0.7534 - val_loss: 3.0684 - val_mean_absolute_error: 1.6204 - val_root_mean_squared_error: 1.7517\n",
      "Epoch 16/50\n",
      "\u001b[1m4/4\u001b[0m \u001b[32m━━━━━━━━━━━━━━━━━━━━\u001b[0m\u001b[37m\u001b[0m \u001b[1m0s\u001b[0m 4ms/step - loss: 0.5729 - mean_absolute_error: 0.5065 - root_mean_squared_error: 0.7556 - val_loss: 3.0452 - val_mean_absolute_error: 1.6132 - val_root_mean_squared_error: 1.7451\n",
      "Epoch 17/50\n",
      "\u001b[1m4/4\u001b[0m \u001b[32m━━━━━━━━━━━━━━━━━━━━\u001b[0m\u001b[37m\u001b[0m \u001b[1m0s\u001b[0m 4ms/step - loss: 0.6611 - mean_absolute_error: 0.5207 - root_mean_squared_error: 0.8129 - val_loss: 3.0231 - val_mean_absolute_error: 1.6063 - val_root_mean_squared_error: 1.7387\n",
      "Epoch 18/50\n",
      "\u001b[1m4/4\u001b[0m \u001b[32m━━━━━━━━━━━━━━━━━━━━\u001b[0m\u001b[37m\u001b[0m \u001b[1m0s\u001b[0m 4ms/step - loss: 0.6231 - mean_absolute_error: 0.5310 - root_mean_squared_error: 0.7889 - val_loss: 3.0042 - val_mean_absolute_error: 1.6004 - val_root_mean_squared_error: 1.7333\n",
      "Epoch 19/50\n",
      "\u001b[1m4/4\u001b[0m \u001b[32m━━━━━━━━━━━━━━━━━━━━\u001b[0m\u001b[37m\u001b[0m \u001b[1m0s\u001b[0m 4ms/step - loss: 0.6310 - mean_absolute_error: 0.5272 - root_mean_squared_error: 0.7943 - val_loss: 2.9858 - val_mean_absolute_error: 1.5946 - val_root_mean_squared_error: 1.7279\n",
      "Epoch 20/50\n",
      "\u001b[1m4/4\u001b[0m \u001b[32m━━━━━━━━━━━━━━━━━━━━\u001b[0m\u001b[37m\u001b[0m \u001b[1m0s\u001b[0m 4ms/step - loss: 0.6951 - mean_absolute_error: 0.5535 - root_mean_squared_error: 0.8321 - val_loss: 2.9683 - val_mean_absolute_error: 1.5891 - val_root_mean_squared_error: 1.7229\n",
      "Epoch 21/50\n",
      "\u001b[1m4/4\u001b[0m \u001b[32m━━━━━━━━━━━━━━━━━━━━\u001b[0m\u001b[37m\u001b[0m \u001b[1m0s\u001b[0m 4ms/step - loss: 0.5909 - mean_absolute_error: 0.5224 - root_mean_squared_error: 0.7686 - val_loss: 2.9519 - val_mean_absolute_error: 1.5840 - val_root_mean_squared_error: 1.7181\n",
      "Epoch 22/50\n",
      "\u001b[1m4/4\u001b[0m \u001b[32m━━━━━━━━━━━━━━━━━━━━\u001b[0m\u001b[37m\u001b[0m \u001b[1m0s\u001b[0m 4ms/step - loss: 0.7121 - mean_absolute_error: 0.5665 - root_mean_squared_error: 0.8403 - val_loss: 2.9355 - val_mean_absolute_error: 1.5788 - val_root_mean_squared_error: 1.7133\n",
      "Epoch 23/50\n",
      "\u001b[1m4/4\u001b[0m \u001b[32m━━━━━━━━━━━━━━━━━━━━\u001b[0m\u001b[37m\u001b[0m \u001b[1m0s\u001b[0m 4ms/step - loss: 0.5789 - mean_absolute_error: 0.4979 - root_mean_squared_error: 0.7579 - val_loss: 2.9203 - val_mean_absolute_error: 1.5740 - val_root_mean_squared_error: 1.7089\n",
      "Epoch 24/50\n",
      "\u001b[1m4/4\u001b[0m \u001b[32m━━━━━━━━━━━━━━━━━━━━\u001b[0m\u001b[37m\u001b[0m \u001b[1m0s\u001b[0m 3ms/step - loss: 0.5688 - mean_absolute_error: 0.5054 - root_mean_squared_error: 0.7530 - val_loss: 2.9058 - val_mean_absolute_error: 1.5693 - val_root_mean_squared_error: 1.7046\n",
      "Epoch 25/50\n",
      "\u001b[1m4/4\u001b[0m \u001b[32m━━━━━━━━━━━━━━━━━━━━\u001b[0m\u001b[37m\u001b[0m \u001b[1m0s\u001b[0m 3ms/step - loss: 0.6287 - mean_absolute_error: 0.5329 - root_mean_squared_error: 0.7927 - val_loss: 2.8930 - val_mean_absolute_error: 1.5653 - val_root_mean_squared_error: 1.7009\n",
      "Epoch 26/50\n",
      "\u001b[1m4/4\u001b[0m \u001b[32m━━━━━━━━━━━━━━━━━━━━\u001b[0m\u001b[37m\u001b[0m \u001b[1m0s\u001b[0m 4ms/step - loss: 0.5365 - mean_absolute_error: 0.4907 - root_mean_squared_error: 0.7292 - val_loss: 2.8810 - val_mean_absolute_error: 1.5614 - val_root_mean_squared_error: 1.6974\n",
      "Epoch 27/50\n",
      "\u001b[1m4/4\u001b[0m \u001b[32m━━━━━━━━━━━━━━━━━━━━\u001b[0m\u001b[37m\u001b[0m \u001b[1m0s\u001b[0m 4ms/step - loss: 0.6235 - mean_absolute_error: 0.5247 - root_mean_squared_error: 0.7881 - val_loss: 2.8694 - val_mean_absolute_error: 1.5577 - val_root_mean_squared_error: 1.6939\n",
      "Epoch 28/50\n",
      "\u001b[1m4/4\u001b[0m \u001b[32m━━━━━━━━━━━━━━━━━━━━\u001b[0m\u001b[37m\u001b[0m \u001b[1m0s\u001b[0m 4ms/step - loss: 0.5722 - mean_absolute_error: 0.5073 - root_mean_squared_error: 0.7561 - val_loss: 2.8577 - val_mean_absolute_error: 1.5539 - val_root_mean_squared_error: 1.6905\n",
      "Epoch 29/50\n",
      "\u001b[1m4/4\u001b[0m \u001b[32m━━━━━━━━━━━━━━━━━━━━\u001b[0m\u001b[37m\u001b[0m \u001b[1m0s\u001b[0m 4ms/step - loss: 0.5562 - mean_absolute_error: 0.4960 - root_mean_squared_error: 0.7452 - val_loss: 2.8459 - val_mean_absolute_error: 1.5501 - val_root_mean_squared_error: 1.6870\n",
      "Epoch 30/50\n",
      "\u001b[1m4/4\u001b[0m \u001b[32m━━━━━━━━━━━━━━━━━━━━\u001b[0m\u001b[37m\u001b[0m \u001b[1m0s\u001b[0m 3ms/step - loss: 0.7519 - mean_absolute_error: 0.5778 - root_mean_squared_error: 0.8574 - val_loss: 2.8331 - val_mean_absolute_error: 1.5460 - val_root_mean_squared_error: 1.6832\n",
      "Epoch 31/50\n",
      "\u001b[1m4/4\u001b[0m \u001b[32m━━━━━━━━━━━━━━━━━━━━\u001b[0m\u001b[37m\u001b[0m \u001b[1m0s\u001b[0m 4ms/step - loss: 0.5482 - mean_absolute_error: 0.5128 - root_mean_squared_error: 0.7390 - val_loss: 2.8201 - val_mean_absolute_error: 1.5418 - val_root_mean_squared_error: 1.6793\n",
      "Epoch 32/50\n",
      "\u001b[1m4/4\u001b[0m \u001b[32m━━━━━━━━━━━━━━━━━━━━\u001b[0m\u001b[37m\u001b[0m \u001b[1m0s\u001b[0m 4ms/step - loss: 0.5442 - mean_absolute_error: 0.5054 - root_mean_squared_error: 0.7368 - val_loss: 2.8071 - val_mean_absolute_error: 1.5376 - val_root_mean_squared_error: 1.6754\n",
      "Epoch 33/50\n",
      "\u001b[1m4/4\u001b[0m \u001b[32m━━━━━━━━━━━━━━━━━━━━\u001b[0m\u001b[37m\u001b[0m \u001b[1m0s\u001b[0m 4ms/step - loss: 0.5700 - mean_absolute_error: 0.5017 - root_mean_squared_error: 0.7542 - val_loss: 2.7947 - val_mean_absolute_error: 1.5335 - val_root_mean_squared_error: 1.6717\n",
      "Epoch 34/50\n",
      "\u001b[1m4/4\u001b[0m \u001b[32m━━━━━━━━━━━━━━━━━━━━\u001b[0m\u001b[37m\u001b[0m \u001b[1m0s\u001b[0m 4ms/step - loss: 0.5963 - mean_absolute_error: 0.5169 - root_mean_squared_error: 0.7721 - val_loss: 2.7830 - val_mean_absolute_error: 1.5297 - val_root_mean_squared_error: 1.6682\n",
      "Epoch 35/50\n",
      "\u001b[1m4/4\u001b[0m \u001b[32m━━━━━━━━━━━━━━━━━━━━\u001b[0m\u001b[37m\u001b[0m \u001b[1m0s\u001b[0m 4ms/step - loss: 0.6535 - mean_absolute_error: 0.5282 - root_mean_squared_error: 0.8036 - val_loss: 2.7719 - val_mean_absolute_error: 1.5260 - val_root_mean_squared_error: 1.6649\n",
      "Epoch 36/50\n",
      "\u001b[1m4/4\u001b[0m \u001b[32m━━━━━━━━━━━━━━━━━━━━\u001b[0m\u001b[37m\u001b[0m \u001b[1m0s\u001b[0m 4ms/step - loss: 0.6196 - mean_absolute_error: 0.5247 - root_mean_squared_error: 0.7852 - val_loss: 2.7612 - val_mean_absolute_error: 1.5225 - val_root_mean_squared_error: 1.6617\n",
      "Epoch 37/50\n",
      "\u001b[1m4/4\u001b[0m \u001b[32m━━━━━━━━━━━━━━━━━━━━\u001b[0m\u001b[37m\u001b[0m \u001b[1m0s\u001b[0m 4ms/step - loss: 0.6072 - mean_absolute_error: 0.5096 - root_mean_squared_error: 0.7781 - val_loss: 2.7509 - val_mean_absolute_error: 1.5191 - val_root_mean_squared_error: 1.6586\n",
      "Epoch 38/50\n",
      "\u001b[1m4/4\u001b[0m \u001b[32m━━━━━━━━━━━━━━━━━━━━\u001b[0m\u001b[37m\u001b[0m \u001b[1m0s\u001b[0m 4ms/step - loss: 0.6340 - mean_absolute_error: 0.5354 - root_mean_squared_error: 0.7948 - val_loss: 2.7402 - val_mean_absolute_error: 1.5156 - val_root_mean_squared_error: 1.6554\n",
      "Epoch 39/50\n",
      "\u001b[1m4/4\u001b[0m \u001b[32m━━━━━━━━━━━━━━━━━━━━\u001b[0m\u001b[37m\u001b[0m \u001b[1m0s\u001b[0m 4ms/step - loss: 0.5419 - mean_absolute_error: 0.5042 - root_mean_squared_error: 0.7355 - val_loss: 2.7303 - val_mean_absolute_error: 1.5123 - val_root_mean_squared_error: 1.6524\n",
      "Epoch 40/50\n",
      "\u001b[1m4/4\u001b[0m \u001b[32m━━━━━━━━━━━━━━━━━━━━\u001b[0m\u001b[37m\u001b[0m \u001b[1m0s\u001b[0m 4ms/step - loss: 0.5669 - mean_absolute_error: 0.4996 - root_mean_squared_error: 0.7529 - val_loss: 2.7207 - val_mean_absolute_error: 1.5091 - val_root_mean_squared_error: 1.6494\n",
      "Epoch 41/50\n",
      "\u001b[1m4/4\u001b[0m \u001b[32m━━━━━━━━━━━━━━━━━━━━\u001b[0m\u001b[37m\u001b[0m \u001b[1m0s\u001b[0m 4ms/step - loss: 0.4819 - mean_absolute_error: 0.4752 - root_mean_squared_error: 0.6897 - val_loss: 2.7120 - val_mean_absolute_error: 1.5062 - val_root_mean_squared_error: 1.6468\n",
      "Epoch 42/50\n",
      "\u001b[1m4/4\u001b[0m \u001b[32m━━━━━━━━━━━━━━━━━━━━\u001b[0m\u001b[37m\u001b[0m \u001b[1m0s\u001b[0m 4ms/step - loss: 0.6246 - mean_absolute_error: 0.5241 - root_mean_squared_error: 0.7872 - val_loss: 2.7033 - val_mean_absolute_error: 1.5034 - val_root_mean_squared_error: 1.6442\n",
      "Epoch 43/50\n",
      "\u001b[1m4/4\u001b[0m \u001b[32m━━━━━━━━━━━━━━━━━━━━\u001b[0m\u001b[37m\u001b[0m \u001b[1m0s\u001b[0m 4ms/step - loss: 0.5768 - mean_absolute_error: 0.5215 - root_mean_squared_error: 0.7586 - val_loss: 2.6944 - val_mean_absolute_error: 1.5004 - val_root_mean_squared_error: 1.6415\n",
      "Epoch 44/50\n",
      "\u001b[1m4/4\u001b[0m \u001b[32m━━━━━━━━━━━━━━━━━━━━\u001b[0m\u001b[37m\u001b[0m \u001b[1m0s\u001b[0m 3ms/step - loss: 0.5879 - mean_absolute_error: 0.5052 - root_mean_squared_error: 0.7664 - val_loss: 2.6856 - val_mean_absolute_error: 1.4975 - val_root_mean_squared_error: 1.6388\n",
      "Epoch 45/50\n",
      "\u001b[1m4/4\u001b[0m \u001b[32m━━━━━━━━━━━━━━━━━━━━\u001b[0m\u001b[37m\u001b[0m \u001b[1m0s\u001b[0m 4ms/step - loss: 0.6524 - mean_absolute_error: 0.5358 - root_mean_squared_error: 0.8023 - val_loss: 2.6775 - val_mean_absolute_error: 1.4948 - val_root_mean_squared_error: 1.6363\n",
      "Epoch 46/50\n",
      "\u001b[1m4/4\u001b[0m \u001b[32m━━━━━━━━━━━━━━━━━━━━\u001b[0m\u001b[37m\u001b[0m \u001b[1m0s\u001b[0m 4ms/step - loss: 0.5315 - mean_absolute_error: 0.4804 - root_mean_squared_error: 0.7283 - val_loss: 2.6700 - val_mean_absolute_error: 1.4922 - val_root_mean_squared_error: 1.6340\n",
      "Epoch 47/50\n",
      "\u001b[1m4/4\u001b[0m \u001b[32m━━━━━━━━━━━━━━━━━━━━\u001b[0m\u001b[37m\u001b[0m \u001b[1m0s\u001b[0m 4ms/step - loss: 0.5319 - mean_absolute_error: 0.4702 - root_mean_squared_error: 0.7290 - val_loss: 2.6627 - val_mean_absolute_error: 1.4898 - val_root_mean_squared_error: 1.6318\n",
      "Epoch 48/50\n",
      "\u001b[1m4/4\u001b[0m \u001b[32m━━━━━━━━━━━━━━━━━━━━\u001b[0m\u001b[37m\u001b[0m \u001b[1m0s\u001b[0m 4ms/step - loss: 0.4823 - mean_absolute_error: 0.4744 - root_mean_squared_error: 0.6914 - val_loss: 2.6546 - val_mean_absolute_error: 1.4871 - val_root_mean_squared_error: 1.6293\n",
      "Epoch 49/50\n",
      "\u001b[1m4/4\u001b[0m \u001b[32m━━━━━━━━━━━━━━━━━━━━\u001b[0m\u001b[37m\u001b[0m \u001b[1m0s\u001b[0m 4ms/step - loss: 0.5834 - mean_absolute_error: 0.5076 - root_mean_squared_error: 0.7618 - val_loss: 2.6459 - val_mean_absolute_error: 1.4841 - val_root_mean_squared_error: 1.6266\n",
      "Epoch 50/50\n",
      "\u001b[1m4/4\u001b[0m \u001b[32m━━━━━━━━━━━━━━━━━━━━\u001b[0m\u001b[37m\u001b[0m \u001b[1m0s\u001b[0m 4ms/step - loss: 0.5340 - mean_absolute_error: 0.4872 - root_mean_squared_error: 0.7307 - val_loss: 2.6360 - val_mean_absolute_error: 1.4808 - val_root_mean_squared_error: 1.6236\n"
     ]
    }
   ],
   "source": [
    "history = simple_LSTM.fit(x_train_RNN_array, y_train_scaled , epochs=50, batch_size=32, \n",
    "                            validation_data=(x_val_RNN_array, y_val_scaled), verbose=1)"
   ]
  },
  {
   "cell_type": "markdown",
   "metadata": {},
   "source": [
    "### Evaluate the training"
   ]
  },
  {
   "cell_type": "code",
   "execution_count": 57,
   "metadata": {},
   "outputs": [
    {
     "data": {
      "image/png": "[encoded data removed]",
      "text/plain": [
       "<Figure size 700x300 with 1 Axes>"
      ]
     },
     "metadata": {},
     "output_type": "display_data"
    }
   ],
   "source": [
    "# Plot the loss by epoch of train and validation data\n",
    "plt.figure(figsize=(7, 3))\n",
    "plt.plot(history.history['loss'], label='train_loss')\n",
    "plt.plot(history.history['val_loss'], label='validation_loss')\n",
    "plt.legend()\n",
    "plt.title('Loss by Epoch')\n",
    "plt.show()"
   ]
  },
  {
   "cell_type": "markdown",
   "metadata": {},
   "source": [
    "### Evaluate Prediction"
   ]
  },
  {
   "cell_type": "code",
   "execution_count": 58,
   "metadata": {},
   "outputs": [
    {
     "name": "stdout",
     "output_type": "stream",
     "text": [
      "WARNING:tensorflow:5 out of the last 7 calls to <function TensorFlowTrainer.make_predict_function.<locals>.one_step_on_data_distributed at 0x314fa2160> triggered tf.function retracing. Tracing is expensive and the excessive number of tracings could be due to (1) creating @tf.function repeatedly in a loop, (2) passing tensors with different shapes, (3) passing Python objects instead of tensors. For (1), please define your @tf.function outside of the loop. For (2), @tf.function has reduce_retracing=True option that can avoid unnecessary retracing. For (3), please refer to https://www.tensorflow.org/guide/function#controlling_retracing and https://www.tensorflow.org/api_docs/python/tf/function for  more details.\n",
      "\u001b[1m1/1\u001b[0m \u001b[32m━━━━━━━━━━━━━━━━━━━━\u001b[0m\u001b[37m\u001b[0m \u001b[1m0s\u001b[0m 61ms/step\n"
     ]
    },
    {
     "data": {
      "image/png": "[encoded data removed]",
      "text/plain": [
       "<Figure size 800x300 with 1 Axes>"
      ]
     },
     "metadata": {},
     "output_type": "display_data"
    }
   ],
   "source": [
    "y_pred_scaled= simple_LSTM.predict(x_test_RNN_array)\n",
    "# inverse transform the scaled y values to the original scale\n",
    "y_pred= y_scaler.inverse_transform(y_pred_scaled)\n",
    "y_pred= pd.Series(y_pred.flatten(), index=y_test.index)\n",
    "\n",
    "# evaluate the model eror \n",
    "rmse = np.sqrt(np.mean((y_test.values - y_pred.values)**2))\n",
    "\n",
    "# Plot the forecast vs actual\n",
    "time_index= y_test.index\n",
    "plt.figure(figsize=(8, 3))\n",
    "plt.plot(time_index, y_test, label='actual')\n",
    "plt.plot(time_index, y_pred, label='forecast')\n",
    "# print the RMSE on the plot\n",
    "plt.title(f'Forecast vs Actual - RMSE: {rmse:.2f}')\n",
    "plt.legend()\n",
    "plt.show()\n"
   ]
  },
  {
   "cell_type": "markdown",
   "metadata": {},
   "source": [
    "# GRU Gated Recurrent Unit"
   ]
  },
  {
   "cell_type": "code",
   "execution_count": 59,
   "metadata": {},
   "outputs": [],
   "source": [
    "keras.backend.clear_session()"
   ]
  },
  {
   "cell_type": "markdown",
   "metadata": {},
   "source": [
    "## Create Model "
   ]
  },
  {
   "cell_type": "code",
   "execution_count": 60,
   "metadata": {},
   "outputs": [],
   "source": [
    "def create_GRU_model(x_train, units):\n",
    "    model = keras.Sequential()\n",
    "    # RNNs Expect Input Data in 3D Shape: (samples=batch size, timesteps, features)\n",
    "    model.add(GRU(units=units, return_sequences=False, input_shape=(x_train.shape[1],x_train.shape[2])))\n",
    "    model.add(Dense(1)) # output layer predicting a single numerical value\n",
    "\n",
    "    model.compile(optimizer='adam', loss='mean_squared_error', metrics=[RootMeanSquaredError(), MeanAbsoluteError()])\n",
    "    return model"
   ]
  },
  {
   "cell_type": "code",
   "execution_count": 61,
   "metadata": {},
   "outputs": [
    {
     "data": {
      "text/html": [
       "<pre style=\"white-space:pre;overflow-x:auto;line-height:normal;font-family:Menlo,'DejaVu Sans Mono',consolas,'Courier New',monospace\"><span style=\"font-weight: bold\">Model: \"sequential\"</span>\n",
       "</pre>\n"
      ],
      "text/plain": [
       "\u001b[1mModel: \"sequential\"\u001b[0m\n"
      ]
     },
     "metadata": {},
     "output_type": "display_data"
    },
    {
     "data": {
      "text/html": [
       "<pre style=\"white-space:pre;overflow-x:auto;line-height:normal;font-family:Menlo,'DejaVu Sans Mono',consolas,'Courier New',monospace\">┏━━━━━━━━━━━━━━━━━━━━━━━━━━━━━━━━━┳━━━━━━━━━━━━━━━━━━━━━━━━┳━━━━━━━━━━━━━━━┓\n",
       "┃<span style=\"font-weight: bold\"> Layer (type)                    </span>┃<span style=\"font-weight: bold\"> Output Shape           </span>┃<span style=\"font-weight: bold\">       Param # </span>┃\n",
       "┡━━━━━━━━━━━━━━━━━━━━━━━━━━━━━━━━━╇━━━━━━━━━━━━━━━━━━━━━━━━╇━━━━━━━━━━━━━━━┩\n",
       "│ gru (<span style=\"color: #0087ff; text-decoration-color: #0087ff\">GRU</span>)                       │ (<span style=\"color: #00d7ff; text-decoration-color: #00d7ff\">None</span>, <span style=\"color: #00af00; text-decoration-color: #00af00\">32</span>)             │         <span style=\"color: #00af00; text-decoration-color: #00af00\">3,360</span> │\n",
       "├─────────────────────────────────┼────────────────────────┼───────────────┤\n",
       "│ dense (<span style=\"color: #0087ff; text-decoration-color: #0087ff\">Dense</span>)                   │ (<span style=\"color: #00d7ff; text-decoration-color: #00d7ff\">None</span>, <span style=\"color: #00af00; text-decoration-color: #00af00\">1</span>)              │            <span style=\"color: #00af00; text-decoration-color: #00af00\">33</span> │\n",
       "└─────────────────────────────────┴────────────────────────┴───────────────┘\n",
       "</pre>\n"
      ],
      "text/plain": [
       "┏━━━━━━━━━━━━━━━━━━━━━━━━━━━━━━━━━┳━━━━━━━━━━━━━━━━━━━━━━━━┳━━━━━━━━━━━━━━━┓\n",
       "┃\u001b[1m \u001b[0m\u001b[1mLayer (type)                   \u001b[0m\u001b[1m \u001b[0m┃\u001b[1m \u001b[0m\u001b[1mOutput Shape          \u001b[0m\u001b[1m \u001b[0m┃\u001b[1m \u001b[0m\u001b[1m      Param #\u001b[0m\u001b[1m \u001b[0m┃\n",
       "┡━━━━━━━━━━━━━━━━━━━━━━━━━━━━━━━━━╇━━━━━━━━━━━━━━━━━━━━━━━━╇━━━━━━━━━━━━━━━┩\n",
       "│ gru (\u001b[38;5;33mGRU\u001b[0m)                       │ (\u001b[38;5;45mNone\u001b[0m, \u001b[38;5;34m32\u001b[0m)             │         \u001b[38;5;34m3,360\u001b[0m │\n",
       "├─────────────────────────────────┼────────────────────────┼───────────────┤\n",
       "│ dense (\u001b[38;5;33mDense\u001b[0m)                   │ (\u001b[38;5;45mNone\u001b[0m, \u001b[38;5;34m1\u001b[0m)              │            \u001b[38;5;34m33\u001b[0m │\n",
       "└─────────────────────────────────┴────────────────────────┴───────────────┘\n"
      ]
     },
     "metadata": {},
     "output_type": "display_data"
    },
    {
     "data": {
      "text/html": [
       "<pre style=\"white-space:pre;overflow-x:auto;line-height:normal;font-family:Menlo,'DejaVu Sans Mono',consolas,'Courier New',monospace\"><span style=\"font-weight: bold\"> Total params: </span><span style=\"color: #00af00; text-decoration-color: #00af00\">3,393</span> (13.25 KB)\n",
       "</pre>\n"
      ],
      "text/plain": [
       "\u001b[1m Total params: \u001b[0m\u001b[38;5;34m3,393\u001b[0m (13.25 KB)\n"
      ]
     },
     "metadata": {},
     "output_type": "display_data"
    },
    {
     "data": {
      "text/html": [
       "<pre style=\"white-space:pre;overflow-x:auto;line-height:normal;font-family:Menlo,'DejaVu Sans Mono',consolas,'Courier New',monospace\"><span style=\"font-weight: bold\"> Trainable params: </span><span style=\"color: #00af00; text-decoration-color: #00af00\">3,393</span> (13.25 KB)\n",
       "</pre>\n"
      ],
      "text/plain": [
       "\u001b[1m Trainable params: \u001b[0m\u001b[38;5;34m3,393\u001b[0m (13.25 KB)\n"
      ]
     },
     "metadata": {},
     "output_type": "display_data"
    },
    {
     "data": {
      "text/html": [
       "<pre style=\"white-space:pre;overflow-x:auto;line-height:normal;font-family:Menlo,'DejaVu Sans Mono',consolas,'Courier New',monospace\"><span style=\"font-weight: bold\"> Non-trainable params: </span><span style=\"color: #00af00; text-decoration-color: #00af00\">0</span> (0.00 B)\n",
       "</pre>\n"
      ],
      "text/plain": [
       "\u001b[1m Non-trainable params: \u001b[0m\u001b[38;5;34m0\u001b[0m (0.00 B)\n"
      ]
     },
     "metadata": {},
     "output_type": "display_data"
    }
   ],
   "source": [
    "simple_GRU= create_GRU_model(x_train=x_train_RNN_array, units= 32)\n",
    "simple_GRU.summary()"
   ]
  },
  {
   "cell_type": "markdown",
   "metadata": {},
   "source": [
    "## Train Model and Predict"
   ]
  },
  {
   "cell_type": "markdown",
   "metadata": {},
   "source": [
    "### Training the model"
   ]
  },
  {
   "cell_type": "code",
   "execution_count": 62,
   "metadata": {},
   "outputs": [
    {
     "name": "stdout",
     "output_type": "stream",
     "text": [
      "Epoch 1/50\n",
      "\u001b[1m4/4\u001b[0m \u001b[32m━━━━━━━━━━━━━━━━━━━━\u001b[0m\u001b[37m\u001b[0m \u001b[1m1s\u001b[0m 34ms/step - loss: 0.6431 - mean_absolute_error: 0.6555 - root_mean_squared_error: 0.8009 - val_loss: 1.7720 - val_mean_absolute_error: 1.1665 - val_root_mean_squared_error: 1.3312\n",
      "Epoch 2/50\n",
      "\u001b[1m4/4\u001b[0m \u001b[32m━━━━━━━━━━━━━━━━━━━━\u001b[0m\u001b[37m\u001b[0m \u001b[1m0s\u001b[0m 4ms/step - loss: 0.5242 - mean_absolute_error: 0.5749 - root_mean_squared_error: 0.7231 - val_loss: 1.4843 - val_mean_absolute_error: 1.0344 - val_root_mean_squared_error: 1.2183\n",
      "Epoch 3/50\n",
      "\u001b[1m4/4\u001b[0m \u001b[32m━━━━━━━━━━━━━━━━━━━━\u001b[0m\u001b[37m\u001b[0m \u001b[1m0s\u001b[0m 4ms/step - loss: 0.4593 - mean_absolute_error: 0.5355 - root_mean_squared_error: 0.6769 - val_loss: 1.2250 - val_mean_absolute_error: 0.8975 - val_root_mean_squared_error: 1.1068\n",
      "Epoch 4/50\n",
      "\u001b[1m4/4\u001b[0m \u001b[32m━━━━━━━━━━━━━━━━━━━━\u001b[0m\u001b[37m\u001b[0m \u001b[1m0s\u001b[0m 4ms/step - loss: 0.4463 - mean_absolute_error: 0.5301 - root_mean_squared_error: 0.6662 - val_loss: 1.0055 - val_mean_absolute_error: 0.7941 - val_root_mean_squared_error: 1.0028\n",
      "Epoch 5/50\n",
      "\u001b[1m4/4\u001b[0m \u001b[32m━━━━━━━━━━━━━━━━━━━━\u001b[0m\u001b[37m\u001b[0m \u001b[1m0s\u001b[0m 4ms/step - loss: 0.3442 - mean_absolute_error: 0.4642 - root_mean_squared_error: 0.5866 - val_loss: 0.8085 - val_mean_absolute_error: 0.6835 - val_root_mean_squared_error: 0.8992\n",
      "Epoch 6/50\n",
      "\u001b[1m4/4\u001b[0m \u001b[32m━━━━━━━━━━━━━━━━━━━━\u001b[0m\u001b[37m\u001b[0m \u001b[1m0s\u001b[0m 4ms/step - loss: 0.2866 - mean_absolute_error: 0.4173 - root_mean_squared_error: 0.5349 - val_loss: 0.6621 - val_mean_absolute_error: 0.6020 - val_root_mean_squared_error: 0.8137\n",
      "Epoch 7/50\n",
      "\u001b[1m4/4\u001b[0m \u001b[32m━━━━━━━━━━━━━━━━━━━━\u001b[0m\u001b[37m\u001b[0m \u001b[1m0s\u001b[0m 4ms/step - loss: 0.2204 - mean_absolute_error: 0.3674 - root_mean_squared_error: 0.4687 - val_loss: 0.5558 - val_mean_absolute_error: 0.5487 - val_root_mean_squared_error: 0.7455\n",
      "Epoch 8/50\n",
      "\u001b[1m4/4\u001b[0m \u001b[32m━━━━━━━━━━━━━━━━━━━━\u001b[0m\u001b[37m\u001b[0m \u001b[1m0s\u001b[0m 4ms/step - loss: 0.2094 - mean_absolute_error: 0.3515 - root_mean_squared_error: 0.4576 - val_loss: 0.4964 - val_mean_absolute_error: 0.5271 - val_root_mean_squared_error: 0.7046\n",
      "Epoch 9/50\n",
      "\u001b[1m4/4\u001b[0m \u001b[32m━━━━━━━━━━━━━━━━━━━━\u001b[0m\u001b[37m\u001b[0m \u001b[1m0s\u001b[0m 4ms/step - loss: 0.1759 - mean_absolute_error: 0.3170 - root_mean_squared_error: 0.4183 - val_loss: 0.4804 - val_mean_absolute_error: 0.5417 - val_root_mean_squared_error: 0.6931\n",
      "Epoch 10/50\n",
      "\u001b[1m4/4\u001b[0m \u001b[32m━━━━━━━━━━━━━━━━━━━━\u001b[0m\u001b[37m\u001b[0m \u001b[1m0s\u001b[0m 4ms/step - loss: 0.1824 - mean_absolute_error: 0.3209 - root_mean_squared_error: 0.4270 - val_loss: 0.4877 - val_mean_absolute_error: 0.5602 - val_root_mean_squared_error: 0.6983\n",
      "Epoch 11/50\n",
      "\u001b[1m4/4\u001b[0m \u001b[32m━━━━━━━━━━━━━━━━━━━━\u001b[0m\u001b[37m\u001b[0m \u001b[1m0s\u001b[0m 4ms/step - loss: 0.1761 - mean_absolute_error: 0.3220 - root_mean_squared_error: 0.4197 - val_loss: 0.4992 - val_mean_absolute_error: 0.5767 - val_root_mean_squared_error: 0.7065\n",
      "Epoch 12/50\n",
      "\u001b[1m4/4\u001b[0m \u001b[32m━━━━━━━━━━━━━━━━━━━━\u001b[0m\u001b[37m\u001b[0m \u001b[1m0s\u001b[0m 4ms/step - loss: 0.1706 - mean_absolute_error: 0.3205 - root_mean_squared_error: 0.4131 - val_loss: 0.4975 - val_mean_absolute_error: 0.5766 - val_root_mean_squared_error: 0.7054\n",
      "Epoch 13/50\n",
      "\u001b[1m4/4\u001b[0m \u001b[32m━━━━━━━━━━━━━━━━━━━━\u001b[0m\u001b[37m\u001b[0m \u001b[1m0s\u001b[0m 4ms/step - loss: 0.1804 - mean_absolute_error: 0.3278 - root_mean_squared_error: 0.4246 - val_loss: 0.4868 - val_mean_absolute_error: 0.5657 - val_root_mean_squared_error: 0.6977\n",
      "Epoch 14/50\n",
      "\u001b[1m4/4\u001b[0m \u001b[32m━━━━━━━━━━━━━━━━━━━━\u001b[0m\u001b[37m\u001b[0m \u001b[1m0s\u001b[0m 4ms/step - loss: 0.1664 - mean_absolute_error: 0.3166 - root_mean_squared_error: 0.4077 - val_loss: 0.4746 - val_mean_absolute_error: 0.5566 - val_root_mean_squared_error: 0.6889\n",
      "Epoch 15/50\n",
      "\u001b[1m4/4\u001b[0m \u001b[32m━━━━━━━━━━━━━━━━━━━━\u001b[0m\u001b[37m\u001b[0m \u001b[1m0s\u001b[0m 4ms/step - loss: 0.1730 - mean_absolute_error: 0.3203 - root_mean_squared_error: 0.4159 - val_loss: 0.4654 - val_mean_absolute_error: 0.5502 - val_root_mean_squared_error: 0.6822\n",
      "Epoch 16/50\n",
      "\u001b[1m4/4\u001b[0m \u001b[32m━━━━━━━━━━━━━━━━━━━━\u001b[0m\u001b[37m\u001b[0m \u001b[1m0s\u001b[0m 4ms/step - loss: 0.1674 - mean_absolute_error: 0.3153 - root_mean_squared_error: 0.4084 - val_loss: 0.4550 - val_mean_absolute_error: 0.5416 - val_root_mean_squared_error: 0.6745\n",
      "Epoch 17/50\n",
      "\u001b[1m4/4\u001b[0m \u001b[32m━━━━━━━━━━━━━━━━━━━━\u001b[0m\u001b[37m\u001b[0m \u001b[1m0s\u001b[0m 5ms/step - loss: 0.1773 - mean_absolute_error: 0.3229 - root_mean_squared_error: 0.4207 - val_loss: 0.4474 - val_mean_absolute_error: 0.5365 - val_root_mean_squared_error: 0.6689\n",
      "Epoch 18/50\n",
      "\u001b[1m4/4\u001b[0m \u001b[32m━━━━━━━━━━━━━━━━━━━━\u001b[0m\u001b[37m\u001b[0m \u001b[1m0s\u001b[0m 4ms/step - loss: 0.1522 - mean_absolute_error: 0.2966 - root_mean_squared_error: 0.3895 - val_loss: 0.4392 - val_mean_absolute_error: 0.5300 - val_root_mean_squared_error: 0.6628\n",
      "Epoch 19/50\n",
      "\u001b[1m4/4\u001b[0m \u001b[32m━━━━━━━━━━━━━━━━━━━━\u001b[0m\u001b[37m\u001b[0m \u001b[1m0s\u001b[0m 4ms/step - loss: 0.1625 - mean_absolute_error: 0.3106 - root_mean_squared_error: 0.4031 - val_loss: 0.4316 - val_mean_absolute_error: 0.5225 - val_root_mean_squared_error: 0.6569\n",
      "Epoch 20/50\n",
      "\u001b[1m4/4\u001b[0m \u001b[32m━━━━━━━━━━━━━━━━━━━━\u001b[0m\u001b[37m\u001b[0m \u001b[1m0s\u001b[0m 4ms/step - loss: 0.1530 - mean_absolute_error: 0.2961 - root_mean_squared_error: 0.3909 - val_loss: 0.4260 - val_mean_absolute_error: 0.5162 - val_root_mean_squared_error: 0.6527\n",
      "Epoch 21/50\n",
      "\u001b[1m4/4\u001b[0m \u001b[32m━━━━━━━━━━━━━━━━━━━━\u001b[0m\u001b[37m\u001b[0m \u001b[1m0s\u001b[0m 4ms/step - loss: 0.1505 - mean_absolute_error: 0.2950 - root_mean_squared_error: 0.3874 - val_loss: 0.4199 - val_mean_absolute_error: 0.5125 - val_root_mean_squared_error: 0.6480\n",
      "Epoch 22/50\n",
      "\u001b[1m4/4\u001b[0m \u001b[32m━━━━━━━━━━━━━━━━━━━━\u001b[0m\u001b[37m\u001b[0m \u001b[1m0s\u001b[0m 4ms/step - loss: 0.1567 - mean_absolute_error: 0.3009 - root_mean_squared_error: 0.3958 - val_loss: 0.4151 - val_mean_absolute_error: 0.5100 - val_root_mean_squared_error: 0.6443\n",
      "Epoch 23/50\n",
      "\u001b[1m4/4\u001b[0m \u001b[32m━━━━━━━━━━━━━━━━━━━━\u001b[0m\u001b[37m\u001b[0m \u001b[1m0s\u001b[0m 4ms/step - loss: 0.1605 - mean_absolute_error: 0.3063 - root_mean_squared_error: 0.4006 - val_loss: 0.4122 - val_mean_absolute_error: 0.5137 - val_root_mean_squared_error: 0.6420\n",
      "Epoch 24/50\n",
      "\u001b[1m4/4\u001b[0m \u001b[32m━━━━━━━━━━━━━━━━━━━━\u001b[0m\u001b[37m\u001b[0m \u001b[1m0s\u001b[0m 4ms/step - loss: 0.1573 - mean_absolute_error: 0.2998 - root_mean_squared_error: 0.3966 - val_loss: 0.4111 - val_mean_absolute_error: 0.5174 - val_root_mean_squared_error: 0.6412\n",
      "Epoch 25/50\n",
      "\u001b[1m4/4\u001b[0m \u001b[32m━━━━━━━━━━━━━━━━━━━━\u001b[0m\u001b[37m\u001b[0m \u001b[1m0s\u001b[0m 4ms/step - loss: 0.1579 - mean_absolute_error: 0.3017 - root_mean_squared_error: 0.3973 - val_loss: 0.4104 - val_mean_absolute_error: 0.5212 - val_root_mean_squared_error: 0.6406\n",
      "Epoch 26/50\n",
      "\u001b[1m4/4\u001b[0m \u001b[32m━━━━━━━━━━━━━━━━━━━━\u001b[0m\u001b[37m\u001b[0m \u001b[1m0s\u001b[0m 50ms/step - loss: 0.1664 - mean_absolute_error: 0.3075 - root_mean_squared_error: 0.4069 - val_loss: 0.4092 - val_mean_absolute_error: 0.5229 - val_root_mean_squared_error: 0.6397\n",
      "Epoch 27/50\n",
      "\u001b[1m4/4\u001b[0m \u001b[32m━━━━━━━━━━━━━━━━━━━━\u001b[0m\u001b[37m\u001b[0m \u001b[1m0s\u001b[0m 5ms/step - loss: 0.1643 - mean_absolute_error: 0.3112 - root_mean_squared_error: 0.4049 - val_loss: 0.4118 - val_mean_absolute_error: 0.5272 - val_root_mean_squared_error: 0.6417\n",
      "Epoch 28/50\n",
      "\u001b[1m4/4\u001b[0m \u001b[32m━━━━━━━━━━━━━━━━━━━━\u001b[0m\u001b[37m\u001b[0m \u001b[1m0s\u001b[0m 4ms/step - loss: 0.1609 - mean_absolute_error: 0.3038 - root_mean_squared_error: 0.4006 - val_loss: 0.4059 - val_mean_absolute_error: 0.5225 - val_root_mean_squared_error: 0.6371\n",
      "Epoch 29/50\n",
      "\u001b[1m4/4\u001b[0m \u001b[32m━━━━━━━━━━━━━━━━━━━━\u001b[0m\u001b[37m\u001b[0m \u001b[1m0s\u001b[0m 4ms/step - loss: 0.1398 - mean_absolute_error: 0.2806 - root_mean_squared_error: 0.3733 - val_loss: 0.4000 - val_mean_absolute_error: 0.5174 - val_root_mean_squared_error: 0.6324\n",
      "Epoch 30/50\n",
      "\u001b[1m4/4\u001b[0m \u001b[32m━━━━━━━━━━━━━━━━━━━━\u001b[0m\u001b[37m\u001b[0m \u001b[1m0s\u001b[0m 5ms/step - loss: 0.1563 - mean_absolute_error: 0.3002 - root_mean_squared_error: 0.3950 - val_loss: 0.3939 - val_mean_absolute_error: 0.5118 - val_root_mean_squared_error: 0.6276\n",
      "Epoch 31/50\n",
      "\u001b[1m4/4\u001b[0m \u001b[32m━━━━━━━━━━━━━━━━━━━━\u001b[0m\u001b[37m\u001b[0m \u001b[1m0s\u001b[0m 5ms/step - loss: 0.1576 - mean_absolute_error: 0.3015 - root_mean_squared_error: 0.3966 - val_loss: 0.3866 - val_mean_absolute_error: 0.5035 - val_root_mean_squared_error: 0.6218\n",
      "Epoch 32/50\n",
      "\u001b[1m4/4\u001b[0m \u001b[32m━━━━━━━━━━━━━━━━━━━━\u001b[0m\u001b[37m\u001b[0m \u001b[1m0s\u001b[0m 5ms/step - loss: 0.1402 - mean_absolute_error: 0.2858 - root_mean_squared_error: 0.3743 - val_loss: 0.3796 - val_mean_absolute_error: 0.4929 - val_root_mean_squared_error: 0.6161\n",
      "Epoch 33/50\n",
      "\u001b[1m4/4\u001b[0m \u001b[32m━━━━━━━━━━━━━━━━━━━━\u001b[0m\u001b[37m\u001b[0m \u001b[1m0s\u001b[0m 4ms/step - loss: 0.1541 - mean_absolute_error: 0.2998 - root_mean_squared_error: 0.3923 - val_loss: 0.3765 - val_mean_absolute_error: 0.4921 - val_root_mean_squared_error: 0.6136\n",
      "Epoch 34/50\n",
      "\u001b[1m4/4\u001b[0m \u001b[32m━━━━━━━━━━━━━━━━━━━━\u001b[0m\u001b[37m\u001b[0m \u001b[1m0s\u001b[0m 4ms/step - loss: 0.1427 - mean_absolute_error: 0.2902 - root_mean_squared_error: 0.3774 - val_loss: 0.3733 - val_mean_absolute_error: 0.4917 - val_root_mean_squared_error: 0.6110\n",
      "Epoch 35/50\n",
      "\u001b[1m4/4\u001b[0m \u001b[32m━━━━━━━━━━━━━━━━━━━━\u001b[0m\u001b[37m\u001b[0m \u001b[1m0s\u001b[0m 4ms/step - loss: 0.1404 - mean_absolute_error: 0.2864 - root_mean_squared_error: 0.3746 - val_loss: 0.3695 - val_mean_absolute_error: 0.4901 - val_root_mean_squared_error: 0.6079\n",
      "Epoch 36/50\n",
      "\u001b[1m4/4\u001b[0m \u001b[32m━━━━━━━━━━━━━━━━━━━━\u001b[0m\u001b[37m\u001b[0m \u001b[1m0s\u001b[0m 4ms/step - loss: 0.1425 - mean_absolute_error: 0.2871 - root_mean_squared_error: 0.3769 - val_loss: 0.3645 - val_mean_absolute_error: 0.4853 - val_root_mean_squared_error: 0.6037\n",
      "Epoch 37/50\n",
      "\u001b[1m4/4\u001b[0m \u001b[32m━━━━━━━━━━━━━━━━━━━━\u001b[0m\u001b[37m\u001b[0m \u001b[1m0s\u001b[0m 4ms/step - loss: 0.1452 - mean_absolute_error: 0.2871 - root_mean_squared_error: 0.3809 - val_loss: 0.3584 - val_mean_absolute_error: 0.4768 - val_root_mean_squared_error: 0.5986\n",
      "Epoch 38/50\n",
      "\u001b[1m4/4\u001b[0m \u001b[32m━━━━━━━━━━━━━━━━━━━━\u001b[0m\u001b[37m\u001b[0m \u001b[1m0s\u001b[0m 4ms/step - loss: 0.1369 - mean_absolute_error: 0.2783 - root_mean_squared_error: 0.3693 - val_loss: 0.3545 - val_mean_absolute_error: 0.4731 - val_root_mean_squared_error: 0.5954\n",
      "Epoch 39/50\n",
      "\u001b[1m4/4\u001b[0m \u001b[32m━━━━━━━━━━━━━━━━━━━━\u001b[0m\u001b[37m\u001b[0m \u001b[1m0s\u001b[0m 4ms/step - loss: 0.1363 - mean_absolute_error: 0.2761 - root_mean_squared_error: 0.3692 - val_loss: 0.3517 - val_mean_absolute_error: 0.4719 - val_root_mean_squared_error: 0.5930\n",
      "Epoch 40/50\n",
      "\u001b[1m4/4\u001b[0m \u001b[32m━━━━━━━━━━━━━━━━━━━━\u001b[0m\u001b[37m\u001b[0m \u001b[1m0s\u001b[0m 4ms/step - loss: 0.1473 - mean_absolute_error: 0.2888 - root_mean_squared_error: 0.3831 - val_loss: 0.3487 - val_mean_absolute_error: 0.4692 - val_root_mean_squared_error: 0.5905\n",
      "Epoch 41/50\n",
      "\u001b[1m4/4\u001b[0m \u001b[32m━━━━━━━━━━━━━━━━━━━━\u001b[0m\u001b[37m\u001b[0m \u001b[1m0s\u001b[0m 4ms/step - loss: 0.1388 - mean_absolute_error: 0.2850 - root_mean_squared_error: 0.3724 - val_loss: 0.3463 - val_mean_absolute_error: 0.4669 - val_root_mean_squared_error: 0.5885\n",
      "Epoch 42/50\n",
      "\u001b[1m4/4\u001b[0m \u001b[32m━━━━━━━━━━━━━━━━━━━━\u001b[0m\u001b[37m\u001b[0m \u001b[1m0s\u001b[0m 4ms/step - loss: 0.1380 - mean_absolute_error: 0.2823 - root_mean_squared_error: 0.3714 - val_loss: 0.3440 - val_mean_absolute_error: 0.4650 - val_root_mean_squared_error: 0.5865\n",
      "Epoch 43/50\n",
      "\u001b[1m4/4\u001b[0m \u001b[32m━━━━━━━━━━━━━━━━━━━━\u001b[0m\u001b[37m\u001b[0m \u001b[1m0s\u001b[0m 5ms/step - loss: 0.1368 - mean_absolute_error: 0.2821 - root_mean_squared_error: 0.3697 - val_loss: 0.3410 - val_mean_absolute_error: 0.4635 - val_root_mean_squared_error: 0.5840\n",
      "Epoch 44/50\n",
      "\u001b[1m4/4\u001b[0m \u001b[32m━━━━━━━━━━━━━━━━━━━━\u001b[0m\u001b[37m\u001b[0m \u001b[1m0s\u001b[0m 5ms/step - loss: 0.1234 - mean_absolute_error: 0.2672 - root_mean_squared_error: 0.3508 - val_loss: 0.3383 - val_mean_absolute_error: 0.4624 - val_root_mean_squared_error: 0.5816\n",
      "Epoch 45/50\n",
      "\u001b[1m4/4\u001b[0m \u001b[32m━━━━━━━━━━━━━━━━━━━━\u001b[0m\u001b[37m\u001b[0m \u001b[1m0s\u001b[0m 4ms/step - loss: 0.1333 - mean_absolute_error: 0.2781 - root_mean_squared_error: 0.3651 - val_loss: 0.3358 - val_mean_absolute_error: 0.4624 - val_root_mean_squared_error: 0.5795\n",
      "Epoch 46/50\n",
      "\u001b[1m4/4\u001b[0m \u001b[32m━━━━━━━━━━━━━━━━━━━━\u001b[0m\u001b[37m\u001b[0m \u001b[1m0s\u001b[0m 4ms/step - loss: 0.1258 - mean_absolute_error: 0.2712 - root_mean_squared_error: 0.3545 - val_loss: 0.3328 - val_mean_absolute_error: 0.4622 - val_root_mean_squared_error: 0.5769\n",
      "Epoch 47/50\n",
      "\u001b[1m4/4\u001b[0m \u001b[32m━━━━━━━━━━━━━━━━━━━━\u001b[0m\u001b[37m\u001b[0m \u001b[1m0s\u001b[0m 4ms/step - loss: 0.1312 - mean_absolute_error: 0.2761 - root_mean_squared_error: 0.3622 - val_loss: 0.3302 - val_mean_absolute_error: 0.4624 - val_root_mean_squared_error: 0.5746\n",
      "Epoch 48/50\n",
      "\u001b[1m4/4\u001b[0m \u001b[32m━━━━━━━━━━━━━━━━━━━━\u001b[0m\u001b[37m\u001b[0m \u001b[1m0s\u001b[0m 4ms/step - loss: 0.1330 - mean_absolute_error: 0.2765 - root_mean_squared_error: 0.3647 - val_loss: 0.3270 - val_mean_absolute_error: 0.4607 - val_root_mean_squared_error: 0.5718\n",
      "Epoch 49/50\n",
      "\u001b[1m4/4\u001b[0m \u001b[32m━━━━━━━━━━━━━━━━━━━━\u001b[0m\u001b[37m\u001b[0m \u001b[1m0s\u001b[0m 4ms/step - loss: 0.1253 - mean_absolute_error: 0.2639 - root_mean_squared_error: 0.3539 - val_loss: 0.3241 - val_mean_absolute_error: 0.4600 - val_root_mean_squared_error: 0.5693\n",
      "Epoch 50/50\n",
      "\u001b[1m4/4\u001b[0m \u001b[32m━━━━━━━━━━━━━━━━━━━━\u001b[0m\u001b[37m\u001b[0m \u001b[1m0s\u001b[0m 4ms/step - loss: 0.1273 - mean_absolute_error: 0.2682 - root_mean_squared_error: 0.3569 - val_loss: 0.3221 - val_mean_absolute_error: 0.4603 - val_root_mean_squared_error: 0.5675\n"
     ]
    }
   ],
   "source": [
    "history = simple_GRU.fit(x_train_RNN_array, y_train_scaled , epochs=50, batch_size=32, \n",
    "                            validation_data=(x_val_RNN_array, y_val_scaled), verbose=1)"
   ]
  },
  {
   "cell_type": "markdown",
   "metadata": {},
   "source": [
    "### Evaluate Training"
   ]
  },
  {
   "cell_type": "code",
   "execution_count": 63,
   "metadata": {},
   "outputs": [
    {
     "data": {
      "image/png": "[encoded data removed]",
      "text/plain": [
       "<Figure size 700x300 with 1 Axes>"
      ]
     },
     "metadata": {},
     "output_type": "display_data"
    }
   ],
   "source": [
    "# Plot the loss by epoch of train and validation data\n",
    "plt.figure(figsize=(7, 3))\n",
    "plt.plot(history.history['loss'], label='train_loss')\n",
    "plt.plot(history.history['val_loss'], label='validation_loss')\n",
    "plt.legend()\n",
    "plt.title('Loss by Epoch')\n",
    "plt.show()"
   ]
  },
  {
   "cell_type": "markdown",
   "metadata": {},
   "source": [
    "### Evaluate prediction on the test set"
   ]
  },
  {
   "cell_type": "code",
   "execution_count": 64,
   "metadata": {},
   "outputs": [
    {
     "name": "stdout",
     "output_type": "stream",
     "text": [
      "WARNING:tensorflow:6 out of the last 8 calls to <function TensorFlowTrainer.make_predict_function.<locals>.one_step_on_data_distributed at 0x3167256c0> triggered tf.function retracing. Tracing is expensive and the excessive number of tracings could be due to (1) creating @tf.function repeatedly in a loop, (2) passing tensors with different shapes, (3) passing Python objects instead of tensors. For (1), please define your @tf.function outside of the loop. For (2), @tf.function has reduce_retracing=True option that can avoid unnecessary retracing. For (3), please refer to https://www.tensorflow.org/guide/function#controlling_retracing and https://www.tensorflow.org/api_docs/python/tf/function for  more details.\n",
      "\u001b[1m1/1\u001b[0m \u001b[32m━━━━━━━━━━━━━━━━━━━━\u001b[0m\u001b[37m\u001b[0m \u001b[1m0s\u001b[0m 68ms/step\n"
     ]
    },
    {
     "data": {
      "image/png": "[encoded data removed]",
      "text/plain": [
       "<Figure size 800x300 with 1 Axes>"
      ]
     },
     "metadata": {},
     "output_type": "display_data"
    }
   ],
   "source": [
    "y_pred_scaled= simple_GRU.predict(x_test_RNN_array)\n",
    "# inverse transform the scaled y values to the original scale\n",
    "y_pred= y_scaler.inverse_transform(y_pred_scaled)\n",
    "y_pred= pd.Series(y_pred.flatten(), index=y_test.index)\n",
    "\n",
    "# evaluate the model eror \n",
    "rmse = np.sqrt(np.mean((y_test.values - y_pred.values)**2))\n",
    "\n",
    "# Plot the forecast vs actual\n",
    "time_index= y_test.index\n",
    "plt.figure(figsize=(8, 3))\n",
    "plt.plot(time_index, y_test, label='actual')\n",
    "plt.plot(time_index, y_pred, label='forecast')\n",
    "# print the RMSE on the plot\n",
    "plt.title(f'Forecast vs Actual - RMSE: {rmse:.2f}')\n",
    "plt.legend()\n",
    "plt.show()\n"
   ]
  }
 ],
 "metadata": {
  "kernelspec": {
   "display_name": "TimeSeriesCourse",
   "language": "python",
   "name": "python3"
  },
  "language_info": {
   "codemirror_mode": {
    "name": "ipython",
    "version": 3
   },
   "file_extension": ".py",
   "mimetype": "text/x-python",
   "name": "python",
   "nbconvert_exporter": "python",
   "pygments_lexer": "ipython3",
   "version": "3.12.2"
  }
 },
 "nbformat": 4,
 "nbformat_minor": 2
}
